{
 "cells": [
  {
   "cell_type": "code",
   "execution_count": 18,
   "metadata": {},
   "outputs": [],
   "source": [
    "import numpy as np\n",
    "import matplotlib.pyplot as plt"
   ]
  },
  {
   "cell_type": "markdown",
   "metadata": {},
   "source": [
    "### Introdução\n",
    "O método de Monte Carlo é um modelo estatístico que faz uso da lei dos grandes números para - no caso estudado durante essa tarefa - cálculo de integrais através da projeção de pontos aleatórios no domínio desejado. São apresentados dois modos, cada uma se utilizando dos pontos de uma maneira particular apresentada em seguida:"
   ]
  },
  {
   "cell_type": "code",
   "execution_count": 19,
   "metadata": {},
   "outputs": [],
   "source": [
    "def tarefa_max_point(num_points, function, a1=0, a2=1):\n",
    "    points = []\n",
    "    for _ in range(num_points):\n",
    "        num = np.random.uniform(a1, a2)\n",
    "        points.append(function(num))\n",
    "    return max(points)"
   ]
  },
  {
   "attachments": {},
   "cell_type": "markdown",
   "metadata": {},
   "source": [
    "Um requisito do método um é saber o maior valor de F(x) para a função de origem no intervalo dado. Dessa forma, definimos tarefa_max_point para encontrar esse número a partir de N amostras pertencentes ao domínio da função."
   ]
  },
  {
   "cell_type": "code",
   "execution_count": 20,
   "metadata": {},
   "outputs": [],
   "source": [
    "def mc_1(n_points, function, y_max, a1=0, a2=1):    \n",
    "    hits = 0\n",
    "\n",
    "    shots_x = np.random.uniform(a1, a2, n_points)\n",
    "    shots_y = np.random.uniform(0, y_max, n_points)\n",
    "    shots = list(zip(shots_x, shots_y))\n",
    "    \n",
    "    for x, y in shots:\n",
    "        if y < function(x):\n",
    "            hits += 1\n",
    "            \n",
    "    integral = (hits / n_points) * y_max * (a2-a1)\n",
    "    print(integral)"
   ]
  },
  {
   "cell_type": "markdown",
   "metadata": {},
   "source": [
    "No desenvolvimento do método um, usamos um gerador de números aleatórios divididos uniformemente dentro dos intervalos definidos. Para o eixo X utilizamos os limites da integral e para Y, o valor máximo de F(x). Para cada valor de N o valor da função em X é calculado, se Y for menor que F(x) então o ponto atirado está dentro do contradomínio da função e é representado pelo incremento no contador (counter) da função. Dessa forma basta calcular o resultado da integral como está descrito no retorno de method1."
   ]
  },
  {
   "cell_type": "code",
   "execution_count": 21,
   "metadata": {},
   "outputs": [],
   "source": [
    "def mc_2(n_points, function, a1=0, a2=1):\n",
    "    function_values_sum = 0\n",
    "    values = np.random.uniform(a1, a2, n_points)  # random values of x generated in the function's domain\n",
    "    for i in range(n_points):\n",
    "        function_values_sum += function(values[i])\n",
    "    \n",
    "    integral = (a2 - a1) / n_points * function_values_sum\n",
    "    return integral"
   ]
  },
  {
   "cell_type": "markdown",
   "metadata": {},
   "source": [
    "No método dois, de mesmo modo, usamos um gerador de números aleatórios divididos uniformemente dentro do intervalo definido pelos limites da integral. Para cada valor aleatório gerado será computado o resultado da função e a média destes multiplicados pelo intervalo dos limites definidos é aproximadamente o resultado da integral."
   ]
  },
  {
   "cell_type": "markdown",
   "metadata": {},
   "source": [
    "### Comentários Gerais\n",
    "Foram realizados casos de teste para 3 funções diferentes. Em todos eles, plotamos histogramas que dizem respeito aos valores encontrados para a integral desejada, com 1000 amostras, sendo que geramos com 100, 1000 e 10000 pontos atirados no domínio de cada função. Também exibimos gráficos com os valores de erro partindo do mesmo princípio.\n",
    "\n",
    "Dentre os histogramas gerados abaixo, podemos extrair uma série de informações gerais, as quais se aplicam a todos os casos.\n",
    "As cores do gráfico dizem respeito, respectivamente, a valores encontrados para a integral a partir de:\n",
    "\n",
    "- 100 pontos aleatórios - azul\n",
    "- 1000 pontos - laranja\n",
    "- 10000 pontos - verde\n",
    "\n",
    "Como podemos observar, o número de pontos é inversamente proporcional a dispersão do histograma referente aos valores obtidos para a integral, indicando que o método de Monte Carlo é mais preciso quando se utiliza uma quantidade elevada de amostras. O mesmo é mostrado pelo gráfico de erro. É notável que este diminui a medida que o número de pontos projetados cresce.\n"
   ]
  },
  {
   "attachments": {},
   "cell_type": "markdown",
   "metadata": {},
   "source": [
    "# Tarefa"
   ]
  },
  {
   "cell_type": "markdown",
   "metadata": {},
   "source": [
    "### Função 1\n",
    "![Screenshot from 2023-04-03 21-20-21.png](data:image/png;base64,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)"
   ]
  },
  {
   "cell_type": "code",
   "execution_count": 22,
   "metadata": {},
   "outputs": [],
   "source": [
    "def fun_1(x):\n",
    "    return 1 - x**2"
   ]
  },
  {
   "cell_type": "code",
   "execution_count": 23,
   "metadata": {},
   "outputs": [
    {
     "name": "stdout",
     "output_type": "stream",
     "text": [
      "0.7199999963060879\n",
      "0.6539999966446965\n",
      "0.6647999965892878\n"
     ]
    }
   ],
   "source": [
    "y_max = tarefa_max_point(10000, fun_1)\n",
    "mc_1(100, fun_1, y_max)\n",
    "mc_1(1000, fun_1, y_max)\n",
    "mc_1(10000, fun_1, y_max)"
   ]
  },
  {
   "cell_type": "code",
   "execution_count": 24,
   "metadata": {},
   "outputs": [
    {
     "name": "stdout",
     "output_type": "stream",
     "text": [
      "0.6323745968732685, 0.6573316787862038, 0.671517678848794\n"
     ]
    }
   ],
   "source": [
    "print(f\"{mc_2(100, fun_1)}, {mc_2(1000, fun_1)}, {mc_2(10000, fun_1)}\")"
   ]
  },
  {
   "cell_type": "markdown",
   "metadata": {},
   "source": [
    "### Função 2\n",
    "![Screenshot from 2023-04-03 21-20-33.png](data:image/png;base64,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)"
   ]
  },
  {
   "cell_type": "code",
   "execution_count": 25,
   "metadata": {},
   "outputs": [],
   "source": [
    "def fun_2(x):\n",
    "    return np.exp(x)"
   ]
  },
  {
   "cell_type": "code",
   "execution_count": 26,
   "metadata": {},
   "outputs": [
    {
     "name": "stdout",
     "output_type": "stream",
     "text": [
      "1.739632434773632\n",
      "1.7314779077356306\n",
      "1.735555171254631\n"
     ]
    }
   ],
   "source": [
    "y_max = tarefa_max_point(10000, fun_2)\n",
    "mc_1(100, fun_2, y_max)\n",
    "mc_1(1000, fun_2, y_max)\n",
    "mc_1(10000, fun_2, y_max)"
   ]
  },
  {
   "cell_type": "code",
   "execution_count": 35,
   "metadata": {},
   "outputs": [
    {
     "name": "stdout",
     "output_type": "stream",
     "text": [
      "1.7786772522222913, 1.7167628801460422, 1.7206855948884434\n"
     ]
    }
   ],
   "source": [
    "print(f\"{mc_2(100, fun_2)}, {mc_2(1000, fun_2)}, {mc_2(10000, fun_2)}\")"
   ]
  },
  {
   "cell_type": "markdown",
   "metadata": {},
   "source": [
    "### Função 3\n",
    "![Screenshot from 2023-04-03 21-20-21.png](data:image/png;base64,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)"
   ]
  },
  {
   "cell_type": "code",
   "execution_count": 28,
   "metadata": {},
   "outputs": [],
   "source": [
    "def fun_3(x):\n",
    "    return np.sin(x) ** 2"
   ]
  },
  {
   "cell_type": "code",
   "execution_count": 36,
   "metadata": {},
   "outputs": [
    {
     "name": "stdout",
     "output_type": "stream",
     "text": [
      "1.5707963179377933\n",
      "1.511106057856157\n",
      "1.562942336348104\n"
     ]
    }
   ],
   "source": [
    "y_max = tarefa_max_point(10000, fun_3, a2=np.pi)\n",
    "mc_1(100, fun_3, y_max, a2=np.pi)\n",
    "mc_1(1000, fun_3, y_max, a2=np.pi)\n",
    "mc_1(10000, fun_3, y_max, a2=np.pi)"
   ]
  },
  {
   "cell_type": "code",
   "execution_count": 37,
   "metadata": {},
   "outputs": [
    {
     "name": "stdout",
     "output_type": "stream",
     "text": [
      "1.414969818086481, 1.580555658727224, 1.57171782908899\n"
     ]
    }
   ],
   "source": [
    "print(f\"{mc_2(100, fun_3, a2=np.pi)}, {mc_2(1000, fun_3, a2=np.pi)}, {mc_2(10000, fun_3, a2=np.pi)}\")"
   ]
  },
  {
   "cell_type": "markdown",
   "metadata": {},
   "source": [
    "### Conclusões - Comparação de métodos\n",
    "Após analisar as 3 primeiras funções podemos observar que o método 2 funciona mais precisamente, retornando um intervalo menor de valores da integral para um número igual de pontos aleatórios atirados no gráfico da função. Além disso, observando os histogramas de erros, é possível ver que estes atingem valores inferiores aos observados no método 1."
   ]
  },
  {
   "cell_type": "markdown",
   "metadata": {},
   "source": [
    "### Função 4\n",
    "![Screenshot from 2023-04-03 21-20-43.png](data:image/png;base64,iVBORw0KGgoAAAANSUhEUgAAApMAAAB2CAYAAACUABjlAAAABHNCSVQICAgIfAhkiAAAABl0RVh0U29mdHdhcmUAZ25vbWUtc2NyZWVuc2hvdO8Dvz4AAAAmdEVYdENyZWF0aW9uIFRpbWUAc2VnIDAzIGFiciAyMDIzIDIxOjIwOjQzY7XxBQAAIABJREFUeJzt3X9oK2l66Plv785FapiLa6CD1ZCganYGK2wSa9jAqYEBa9hZXMPNctQQsDp74aghcNTsXY6ae5ej858HBo4MN7QME1qGuRwZskSGLCNDQsqQkBLk0iWYkBLkMqWQMCXIcEuQZUuQy1bBDO/+4V+yLduSbFnH6ucDDX1kuep56pWsR29Vvc87SimFEEIIIYQQM/jvFh2AEEIIIYR4vKSYFEIIIYQQM5NiUgghhBBCzEyKSSGEEEIIMTMpJoUQQgghxMykmBRCCCGEEDOTYlIIIYQQQsxMikkh3maDDvuf7nA4WHQgd7AMOQghhLiWFJNCvKWG3UP2HR/HbuGFi45mNsuQgxBCiJtJMSnEW2pl/SnPnhpkkouOZHbLkIMQQoibfWXRAQghoH/wKVVfRw+S5Laf82Rl0RFNbxlyEEIIMT2ZmRRi0Xo7FOo65XxEs1amasWLjmh6y5DDNOIB3aNdPvrmd9jtLzoYIYRYLJmZFGKhYtrVOuRt1tY0GraBZiQWHdSUliGHKfSP2G0FZHQfz4swFh2PEEIsmBSTQixSbFNvJcmV0wCsb2wsOKAZLEMO00hv8uIF0A/Zxll0NEIIsXBymluIBYrtJnbSwFwf87PeEft7NSzfx6rvsX/U4208ebwMOQghhJjdO0optegghPiyan/yPqZfJfjzZzzW+1WWIYeZ9Hf5VqZJwfuCF+lFByOEEIsjM5NCLEwXyw7Rs9lHXIQtQw5CCCHuQopJIRZl4OB4SbK5zKIjmd0y5CCEEOJOpJgUYkFix8Ihg5F5vHc+L0MOQggh7kaKSSEWxLEcIi1D9hFfb7cMOQghhLgbKSaFWIgejhNA1uDxniBehhyEEELclRSTQizC0MH2IJXJsrroWGa1DDnMYthhf2eHV5UGPh6Nyit2dvZoDxYd2P2I+23293bZ2Tmgd8tzO7s7tKda62lA93Cfvd0d9m49YD32dg6Z6rAOexzt77G7s8vRLZ2Jhkc77Han2bgQ4jqyaLkQi+DauFGSrPGI5/SWIYdZrDzh2csnwEteLzqWOUhoOtloG6NhYL7cAmDY2afadIkuPTdyW1huFvfN5oR382ukMhpupUywXeL5yaO9g1fUnStbx7NatFJZ/vzZhNdRrKTI6D6Vkk2p+OL4sUGb3VoL//LmA4emG2C4n/FELvkV4k6kmBRiAXqOS0CKTPbxLqizDDmIMVbSJKMQzTA5XYd+JZunrJsXnhb5LcqOQaVsTLEsVIJVHYIgg2mc/9aaWaaSu7B1Anubkl+mak5zQe4KaUJCPYdxOl2+alAsZy4WwpFHo+SS3y6RlUJSiDuTYlKIBzfEtT1ImjzeSb1lyEGMN8C2fIxS9vyhxAqrq5dLRoPt1nPWp73GwbFwUzm2R2vElVUubz6ZKdNsrpOestjrOQ6RURu5jjfByurqxYI3jshVWzxZly9CQtwHuWZSiAfnYrsR6JlHPCuyDDmIUcN+h3a7x3DoYLkZcqczh3GfzlGHfgwQM+i2OWr3Ga6uT15IxgO67TbdQXxS7Jlnxd6w16bdHZwGQeeoTXcAK+tTFJLDHu12h358UgibWRI3xZ5ISyEpxD2SYlKIh9Z3cQNIZg30Rccyq2XIQRyLu+x+9CHbbhI95dEoV3FSOXJpgCGHdQu0FoXcp+ztNXBJ4ldNCvuT3RozOPyED0stQl0nsrapNEaKve4+DS9FsJ3jo509dq2AJC2K5qd0Jtr6kParD/mo7pPSkzi1MvWzQvjusV86UAyHw8n+kwb04ktGTnML8cBi18YFMsbJB+ojtAw5CIAeu2Yeq+jw509XgXWMZBlOZw4HFn6qwFOtSui5YH7GZrrLXipH8eyixJjeUY26b/LZ8/ULWx8efYyxrdF0nh/f5JLPEJYy5E9mPTt2RO6Fjt8IcPwMjZdPCA9bZAsn+x92OWw6BFGIH+kUS1usnU0oxnRe5SgFVZzXxzcA6RkonRbCt8Ye029bOGFE5PtEmQLFzfT1r+e+RbVqEU5wVJO5Mp9trU08CkI8dlJMCvHAPMcjQiObuaeVvuM2n2YL2HmLv329fuXH/b3vYWxr1Nw/ZuvyacnuDt806xgNj883Jy8L7z0H4Pvf/z5///d/f2/bE+N98MEH/OAHPwBgcFBm2zNpFU5fGANcLyRbOvmSkDTI51cYNB0Co0ghDbDO8zefnzy/T3vfIQptmk72UjHZpVpukir753dLuw6+fjrrGZPK50njUnc18s0NEsDq09e8eXq87f1tB+Oz5zwFBgcfYpgB1hcvWAPo1ynXIvLO+Z3kvueRNErHhehtsfdqFGs6zR9vsUqXV7+eo9z4GZ8/uebApZ/y+vOnMx93IZaZFJNCPKghrusDBkb2tudOKKFjmCbJXGrsj7WsiZlPktHG/DCVxTRNsvo084tzyAH4xje+wTe+8Y3726C4xRC7YUOuiXE6/PHx9ZJnd1qvpEkTc2i5ZMzcmLu202w8S8NRC5xLP+o2aPoZSrnzbzAXb45JkE6vQq+BExlUL7+WYg+71SAsP2ctDatmnkyxgTN4wdoq9FtN3JRJ7ax+Pb5e8qwQvi32lEmllOT4bRERRUmSyWmOnxDilBSTQjwoF+f0xpV7W+k7zdZnb9i65qcrT17w5rrZltVNXr/ZnHJ/88gBfu/3fu/+NiYmEOAHkMmPXKrgWDgnd1r3uz1S62skcLAcDaM85Sx0EBAksxhnZ3tHir1hj260xvoqDGwLP1s8L2hPJTZ587Pz12bsOni6cfaaC/zj7ktnNehIIRz3ugRr66Rvin1lnc3NmH63jd2sE1aa1K9O7J/rHfDJdmuy09xmhTfPbtqYEMtFikkhHtLAwwsgmTe5x0m9h/WAOQx7PaK1tSXqsBPT7wak1m+4Nu/B6GT0JFrydMp6wGG9RZStk4k7NJwkz9eBnoMTjpk5vHXzWTKpgNPJvrjboOHo5OsrDKwmvrnGOjGO5aKPnfUcMWxT2Q6otGpna1/qGR0t1M6OY79Rx9ayVNJD7D2XzNr6RLFrKR0jl8WqN3Hy62xc92Jb2+LzP77uK5sQX25yN7cQD8lzcIFs7hHfuPJAOQyPdqh62kSF5PRt/ebn5jZ9CVK0qOx1mWu4gwN29m/pJ0iCp9UqmlXnqH3E/m4LCkUykY/ddEiZx2Xb0LXxc/mrM4e3WStRNX0aB23ah3vUvSxFU8N3D2lGWcwVAA/bS2Hmbpj1HHbY23Ywmz/m+Rpnx221WKUcNtlrtznc28XWixRSIe5hE183Sd8W+3DAYJhgZTXN2uZLSlqDwnZ7yiSFEADvKKXUooMQ4suiv/st9HJA2fkZn1136vkt9yA59Pf5uJai9tnFNn03tvXT61O09bsHN7bpM2jd0Kavt/cxjUyd1xt3Lcf7HO7UsIPLj/vYzYCi/QUvbr2peEi/H5FKrx5/ORgOGCRXWT27jnLIkBVWbgr16CPebxT5r3989ZKJeNAnSKZJrwDEDAbRhQXQh8MhKyvXjNqwy37Dxyg9ZS0Bg/09nMJznp7FEjPsB5BKH8cXDxmESVZPg78h9s4nH1Cgyc9O7rg5+vhrFGniv9l8vF/0hFgQOc0txIOJ8VwPkjlyj/Yc90PkMORwu4Wx/eMrheH9tfW7KO4e0EpuMdVqLndo07dWLBDma3Q3XnK3K+vSmKUKxoUgQpxqCbe4TV6fZBsrpNMjR25l9eJscGLlhuM6oHNg4Vgekddgdz/EMLd4MrKBxGqa83nHxHmhd7q76wpJuuyaOcpOCOWThzIV3GcXgmMlPTKrmVhhdTT4G2LPlmuU7YBOrwdenZpfoN6UQlKIWcjMpBAPps/uN3XKyRr+Fy+4v0V1HtID5DDY43ulJI0fP5vsWslBly5TdGMZY3jwMRXtDZ9Pey/SZXGfjqdN1F2l8+m3aORtPr/z7OSVIOh1fPQna1IY3Spm0PMIkzp6ekWOlxAzkmsmhXgosYvjg24Yj7SQ5EFyGLRaRLnc1UJy0D1u9wfAkF77iHZvCNO09bsv99CmL2vq2I3L6+lM4/gYdAbxSUgdjo469OMEa1JITijB6to6a1JICnEnUkwK8VB8Dy9Mkn2857gfIIcY1/bRs5dK1bjNXjNEc0sYH++yt2cTaSGNfJ7d3pxCudb9tOlLZHOkXIdZw+8fNHA1aJh5Xu3t0fQ1km4Fs3Q035t7hBDiEikmhXggsefgkcWc+rbYt8f8cwjw/CSpSwusDy2XZH6DVBJ8N8AoPmVdg2SuQE6fUyjXOWnT90TjpE3fczbXk3ChxeAEtBSpwMWfKYgeVpAhv56EwMXT8jzb0AGdfP4RrxQghHiU5AYcIR6Ia7tEmQLT1Btvm/nnEBJEV4tJsnny6RjbdskWG6wngPQWn38+8py4T7tRw81UeXHDdYjDzj71S7c/h46Lk9xhxx19NIlulthav7StW1sMxvTbTSwvIvR9NLNMcWP1aoGX0EgSEsYwtvq7sdWlhpnfJNHbwcGkmj8ekI2Xb9g4jaLXpuWGEPn4UZbi840lWq9TCPE2kWJSiAcxwHUDUjnz4t27gw4HLQ+SEWHSoLC1/nBL20ztIXIY38/u+I7dzvXdTAYdDuyA0G5hJbdvLCZXMjny2sX1fEJsPM0kn7u4f21cm8lb2vTF7Rr1sMTr5ysQd3hlGJSqLm82Lz8zIromX+CWVperpNMw2LumewxtysUGeesNmysxRx9nMEOLv305ze3qQggxGSkmhXgIsYvjJsmVjZEHe+wW6+jNNzxdgcH+RxT3qvz4+Vt6e86D5KChaxF+CFfu8OnZ13czWX3C1hZ0nAqt23axkmbtUl031FOktHXWJq61rm/TF7gtmq7B9tMNEokn5HNQaHmweWlRzjgkQiN1Xd17a6vLm7rHZClWiqROfxBFJKXxtBBiTuSaSSEegmfjkKOQG6kcOnXq5MidfOCvGlmCRovb+pYszIPksEomE+EHV28hGdgWvmFO34llHk7a9JljCtv0iy/42ZuNkzPXA1w3IpvLXH1iEBBkDPSZg3CwXI2cMa5wX+HJ0w20foejvQoNrUaj9JZ+SRFCPHpSTArxAPq2TWgWT1rIHYt9jyCpnZ/o1DSSvou3iAAn8FA5ZM0Mvn11C67jjT2tvAiTthjs75doZhrUt65GHbsO3GWJpb6LG+XGFrSnkppOxsihBy0sdzjrnoQQ4kZSTAoxD3Gfo8P2yTqEfVrNALNoXrjPIoqOr9s7eyyZhOhyb74FWlAOK2aRjGNdWTJns+ZhvXg7ZtdW8k385taNhW3/8BU1trE+30S7MtEaY7cC8sU79L9Jl7C8OlfuzQFgyGAQk1hZJb3+lO1CRKVY5dqW4UIIcQdSTAoxD842hXyRmgfDo20a2jbblz71k1oKiM7XBIwi0DQu38i8MIvKIfGUiulQ71yqwFZuaut3Nyu5MhcuBb1N4uZe1f2jPSytzGfP1knEbRrNS6XxoEmDMqU73Q+TYOWaIOLDIhmzdlaQR1e6mQshxP2RYlKIedioUK+WyLi7bFtZ6s1nV05nJowcRuCfrzPoe4SGyVuzpPkCc1grV0g1GpMv6D3scri/R8MJ8Fp19vbb0123ubp+5aacWQ0PPyZnlijlUrzzzju8kzSxkvroMziqOeS3n86tOE6Y29SLKfxOj15nn0oDyvXKHfuACyHEeNKbW4iFienulqhrJcpGhFVrolU+59nbcSZ3QnPMoX/ITkuj9GLjrbhO8r70D3ewUiWeP5l/VsN+Dz9Koq+ll+oYCiHeLlJMCrFg8aCHFybR9fSNp07fZnPLIY6JE4ml6ugSx5BYpoSEEF96UkwKIYQQQoiZyTWTQgghhBBiZlJMCiGEEEKImUkxKYQQQgghZibFpBBCCCGEmJkUk0IIIYQQYmZSTAohhBBCiJlJMSmEEEIIIWYmxaQQQgghhJiZFJNCCCGEEGJmUkwKIYQQQoiZfamLyWH3gFevDugvOpA7WIYchBBCCPF4fUmLyZje0T6W7+I0HYJFhzOTZchBCCGEEI/dl7SYTLC2+YytXIZkctGxzGoZchBCCCHEY/clLSaFEEIIIcR9+MqiA5i7YZudikUyExHoZV4/TS86ouktQw5iKcTDHk6zRqWhUf/iNeuLDkgIIcTCLfnM5JCjchkvXyHjNKhW6nQXHdLUliEHsQwG7T3qTQ9CDzeIFh2OEEKIt8Ryz0z2m2zbWbbrK+QyFlaoP76ZlGXIQSyF1Y3nvNiA+KC+6FCEEEK8RZZ6ZrLXrONlTXIJSKSfsLm+evazfnufvXoLP3Bo7O5z2B0uMNLrLUMOQgghhFhe7yil1KKDmI8+u9/K0Cx4fPHisV5juAw5iGUTH3wPrZLB+dlnMksuhBBiiWcmBxYtN4VhPOIibBlyEEIIIcRSW9piMnYsHLLksouOZHbLkIMQQgghltvSFpOO5RBlDDKJRUcyu2XIQQghhBDLbUmLyR6WHaBls+iLDmVmy5CDEEIIIZbdchaTAxvHg0w2w6Od1FuGHMRSk5UmhRBCwJKuMxk7Ni4pCtnHe+PKMuQglkvcPaBuubiWC6FP9dMUhp6l8GITeZWKeRp0Dmg5AaFmUH72ZE5fsAd0Dy0cP4Bskecbq7f/yrR7mGse848fIO63aVouQZgi/3KLtfvewbDHUcvGCyIyhRds3vMfl7nHf2Ler9mHymNSSzkz6doOIRmymUVHMrtlyEEsl8T6Fi9evubNX/1X/r//96f8+LOXvJRCUjwATc+QdKrU7GiOZ2o0UhkNt17FCpLz2cNc85h//AAJTScbtdhuuPM5O7GSIqP7NLab+HNIY+7xn5j3a/ah8pjUEhaTA1zHBz1Ldj5fzB7AMuQghBD3I7GaIgoiDHOeS1skWNUhCDKYxsp89jDXPOYfPwAraZJRiGaYc1pndoU0IaGew5jH59/c4z8299fsA+UxqeUrJmMH24VkxuDRTuotQw5CCHFfYgfLnXORBOBYuKkcc1vad955zDt+AAbYlj/Xwr7nOESGOafPv/nHDzzAa/aB8pjQ8hWTno0TgZ7NMOc/O/OzDDkIIcSdxPS7bdq9IfG4Iike0Gsf0enHx//sd2i3ewziaXczoNtu0x3EV4qYuN/hqNPn4iZj4qn2cUsexPQ7x/s/NmQwTRI3xH+WQ7vL8GTb3XabTn/61rvDk+M7HB4XSbmzIilm0Dmi3bu8zZipDtOwR7vdoR+fF0kXTg/HA7rtDv34/N+DKdK4Pv6THLpt2t3BccwnsVxJ6VY3jPWwR/uoc+X1GU/3YrolDxj2OnRGAh8MBtMmMZOlKyYHjotPkozxeOf0liEHIYSYVdzb5+MPy9jo6H6TStW6WCT1j9hrupDJ4FVMPtndpe4mwSlilI4mLmIGh5/wYalFqOtE1jaVxnkRE3f3aXgayWae/P75B3JvxyBT7txPHgw5+sTALBYxjTy77S7t3Tp2NNlVdjfFD0O6B3u0Qp1ssknhw1fs7rYItYC6abLbm/AgxV12P/qQbTeJnvJolKs4qRy5NEBM76CBk0zhFEe3OWD/OzrFw0lGYkj71Yd8VPdJ6UmcWpn65SIp7vAql6NQymPkXnHU7bC/3WKiS0NvjB+IexzuNfG0DCm7RP7VLrtNHy1qUjA+ZbKRvmWsh232WgF6VCM3+vrsfELGqDHRUNyWB9A/+IhcvkghZ/DRfofu4Q4NZ8IE7kotlUhZRU1BVlW9Rccyq2XIQQghZhQ0VV43VO3s75+nqllN5Zvhyb991aw1VXDyL7eSUZrZVKGKlFMrqnLLn2g3oVVUerasnOj0gYbKJQ1V84/30ahbKlShauY1ZdRPtxmoem40lrvkoZQKbdW0T/4dBcquFlXFmmDbt8avVOTUVO30h1FT5ZMZVXaVUn5TlYu189+7kadqOV2ZjeDsEaekq1TRVpFSSoUtVW8GSkW2KqYyquKextJUec1Q9VuHIlJOJasyRUudZh21CkrLVJQ7+iynpc6GNXRVvVRSzYmG+Zb4lVJevabODrldVKlUUVmRUqFVUcWqrYIr2xzjlrF263XlREoF9ZzS8s2zXN1K5kIsd8lDKV9ZTefk35HyrYoqVp0Jtn0/lmxpIB/XDUHLkNXvaZPdHb5p1jEaHp9vXvq2GLf5NFvAzlv87eurl8D2976Hsa1Rc/+YrYkvJJ5DDsD3v//9+9uYEELco9/6rd/iww8/BGKOKmXsbI3G6VonsYfjj85UJTHyeY7/pA7x3IBsPscKCZ68eMOT0Q3HfdqNGm6myouN0b/fXarlJqmyz5PTh10HXz+d6UmSM3OsDFs07AzF2sn0z9C+dB1cTO+oRt03+ez56GfAJHkAKxtsbRz/78Cx8IwqrzdGZ+RmjR9I5SmmT37oObhajvI6wBafvRnZRe+Ipu0Thj5RKk/p2ZOzy6sGB2W2PZNW4fQDbIDrhWRLp7OfWcz8KrFdwdLyWKeHwLVwUjm208Cwy2HTIYhC/EinWNpi7XQH/TrlWkTe2Tzbp+95JI3ShVP1iSdPeXo8AHQsB71SO1sy6G7xxyTNApsnv9B3PSKjQi4Bic3XvNk8H89+28IJIyLfJ8oUKG6mz7Zx81jHaGaedKLPbsMlVzZP4hvg2AFG+WQmvNem5YYQ+fhRluLzDc6ivjUPgDSbW8cHJe7bWEGe2ssnZzFeH//9WK7T3EMXxwPuswVhKotpmuT0MRtM6BimiZlLjf1VLWti5nNktCn2N48chBDiMYhtmq2QbN48v1785Nqz89N5q6RPi6TYwXJTGLkx39YHHQ5aLp7dwvIvLZ7SbdD0M+RHfu/i9YbH+xi2GjjZIvnTfZ8UScfXwfVp77fwPZumHcyQx9mT6R3uYiXzF9eGvFP8kEinz/bdtx1Cw8S4cowO2W5pFJ4/58XLClm7gPFp5+Q07BC7YUPOxDj9LLp8U8lKmnQixm5apIrFs7uKu5YDhsk6ffa3HTLPn/P8xUvKehPT3D07rdtvNXFTJvmzOvz4esns5eslj5/N0V6TKPeczdPxv2v8JEinT4/hEMfyyJrG1X33ahRrEbmnWzx7YeKXc5xd6XDrWJ/so9+i6eUo5k+eNbSxvAxmbgVoUy420MynbD0rkXWKmDunR2mSPM7F3QPqToriSFF9Y/z35YFmQB+GU1Y6qFTJXnQks1uGHIQQYhZhQ+WSI6dLlVJeJaNSRUtFKlCud+kUsFNWeqqkzv5aBq5yg8tPySizcen3rIJKasXz3zs5fW02Q6VC72QbkbIKmsqOXG90elry8rZSBWvGPCLlNuuq5Z2fjAxdV42ewZ09/rMtqoapqVz99MFIea53mpDKjJ5StgpKy1bV8U89Vc0mR07xK6XskkqdPN93vZNTqI4q67oqOxdjyTdDpSJLFfXzU+8qbCgzmVOnZ2udsq6S+eb5qdiopfLa8fMjb+Q4RL5q1ZvKPTsMkXJd757iP92kpQqjp+qVr9zTHYausqzRfE8uGTjJaZKxDhum0szG2Snu0ViUCpXTsk/yjZRVSCnj7KBNnkfoNFTdGnne6fvhpvjvyVLNTA7c0xtX3o5b5WexDDkIIcRMVnQyKY3U6dmcYZtayyeTM0j0LJwgybD9iu98Z4cu0G1ZBBmD47+WMe2WA5OcCdKzZFIap/dvxN0GDUcnl11hYNlni2WHEaR0/eRZPSwrmGwplgnygJjeXpFtJ4lGRAwMu3tUmsHtKdwaf4/9j77DxwcDGFq0HI3s6aLF/RaWf7KH9df89Kevz2YUe66HZhgcZ6yT0ZNoydNoBhzWW0RZg0zcwXJOF+OOCKMU+ukJuoFF0z2ZcUts8uZnX/Di9JS06+Dpxtn6yXpGR9O0s5nAfqOOrWUx0kNs2z19lINSGQsNovj4uB1UaHja3eMfHPLJdz5krw+x3cSOsuROpnaHRy3c5OkM7DqbmzpBt83+qxphpUn1dKcTjTVEUUQylTqZLYzpNK2T2VuAFZ483UDrdzjaq9DQajRKp1PYk41D3NmhWAvQNI7v3B+02dm2j98PN8V/T/777e3t7fvd5OL8zX96ReMnKQrb/57vjj/z/NZ7sBziPt2fv0tKu3rZ7LDXY/jee3x1jrtfrJh+9+e8m9IeZz/RQZfeL1O8N78mF4sx6NH75XuPMK8hve6A91LTXM/ytpvTe+TWMdb5zff/M/U/fYf3f9nl8C9+wW//9j/h+CneDSKy+f+J5E/+Ez/6B51M3ObvfjXPb/zDX/DPH7zP4C8t/uXbRTZWL0b886M/xE79Pv82O7LT936TD/6xQXP4Pv/6H4/40yDDb0c/wXvvawTR1yk8+VW+wlf4tfcH/NEf/RMf/Nr/Q+f/qlL9kyTF2v/Ob4/+cfzH/5s/cLP8h9/9+lR5fO1v/pBa9Pv88Pff40//bZbvfvJ9fvR3BtUfPuN/GAl1tvjhT/6gxS+yKX5uR3z7d8B23uWDf/Vf+DP3PX5363+88vc97u5Q/NFv8MP6/0Y6CfAVMt/8Gn/2o7/mX//Kf+M/Hzokv63j/eQX6L/4J5LffXpyCdf7fPDLFo2/+xU++OXf8Gc/+AE/+heT7Zff5cJH2LDN/1n6C/J/9EP+zXvHY/TV3/x1fvlHDf7L+1/j50eHePq30X7iwq/8C+F7v8P//PWv0tvfwcv/Ryq/8RP+3be/zcevatipCvV/v34hh5ni/0WbP2z8M5nMEPufMuTfc/lrPuBrvb/kr79i8uzJ6Hv6l7zzzlfQkv/MXzR/Quo730X/6mRjnfoKfPXX3uVvftTiv/36+wz+ssb2D22+/u/+I4XfOB/Xd975VyS/+hX+4U//hODr/wvGryYny+OdI/7gTzT+Q/V3+UU9j/G//h/sNP+Z3/lhlX9z9n64Lv57cr8TnYsUqLqBQju+E+txeqAcIk81KvWxd/OFVlVVWhPdv/aoRW5Nlevug93pdm/8lqpUbTXZ/Z6PTaBalYrMpmqaAAAO5ElEQVSyHtXLL1JOraIa3qN7Jd1qPu+RCcc4CpQfjJz6DYKLr/kwUMHIKc/AD66Nc+xp4rPd+Mof3U5w8XlRdBKLH6qwVVCps1OoI8ad5p4kj2g04kgFwfgMZo8/UmFwflyiC8fs0na8hipXmsqLLsellFKh8kePbxioi6FGKjqLJVR2SVf6+Tnvk99xVL1cPRn36NJYRSr0fRWeB3rhWESj8UTh2BzuFv/F/YVBcB7L6O+M7Ncupq5einbbazaKjvflByoMGiqnmer85uxLOTfzKnnpjvYb84guHtPRcZ84/jtaomLSUkUNlcw1HvEH7UPkECmnUhxZwmCE31DFsvWIj990vHpRVezHVAR4qlasTLikxyMVWqpcbKjJFndZvNAqqWLjUVW/U5nLe+SBx/imYuwmbiWjkkbtJE5f1XJZVbLHbOemYvIezBr/pCKvpWoN9+Tvfqha9eZky+EopZTyVc1InhePQVPlM3nVHN1A6KpGraVOv28Fjbpq3eNL6m7xT8Yp6UovnRfIVlE7uSZywhitokolTXU8jJFyK4YyKudf1KJWfuRaT6XCpjmmmFxc/JNYnmLSrykDVKbyiBdnfIgcvKrKl8ataxWqVjE/wbpgcxDaqrmI6ajIUiWzem9v2Gl4zebU+w0aBVWcZH27exS5TdV84LeUXzNVofUI8owcVc7f3x/8iXb50OMxp/fIg4xx6KpWo65Khqb0fFXVG/ZUBaxbK6qKE6oodFWzXFCl5qUbNlSgnGZD1YpZpWULqtZoKuc+/4zdMf6J+A1lplBw/t+VG4xu3oBqlErKCiIVei1VKRRV3R09Sq6qGdqF7XOPRdLd459M5LVUrd5Sjucpp1VWZq6kpjmBF9kVVay5KooC5dSLqlC2Lha8kauatYayHE95TkOVTFNVxn1xWVD8k1iaYjKyCkpDU8XHe477AXKIlF3KqctnIJRSSgV1ZeYb9/6NbiJ+TRUriyjplHLKhiotYHbSKhZVc6rdeqqae/hLOMJmUZXmN+lyzU4bKp+rPejs5Cx5hq2Cyo2d4p+fRYzHXN4jCxjj6YXKs5qq2bLV5ZvIxYjIU3arqVq2q645U78kIhV4rvL8cKYZvcC1VLNpKce//sUU+p5yPX9OZwfvFv9tluZubt/1CJMGOePxLs44/xwcmo7OuJsRB60WUS7H2LXV76sH7r26n16qWVPHHtdvatijc9Q+2d6lfS1Cr0VLG1ln7Mw99cW9N/cQz4qBEbWwLrSUffvytJseRm7tmh/frY/wfbtLv95r3yN36Sk9dozfNiusbW6x9XTjfJFtcVVijY2nWzzdWGf18X78TiDB6to6a+mVmRb7Xl3fZGtrkyfp619MK+k11tfO1we9X3eL/zZLUkzGeK4Heo4xa3g+Eg+QQ8/B1QyyYwoS1/bRs1dW0723Hrj36p56qQIksjlSrnOhN+qgvc+eDXomopb/mJ3dOjZJvIpxoUfvQxo6NlEmc+mPzH30xb1P9xXPGkbWx3bOKrG3LE8AF9vVyWbG/OgufYTn4K79ese9R+7aU/rqGAshHrNHuTLKVT6OG5EyDK6ZJ3gEHiAH38PX8mPWMAvw/CRXVzbpc9AKyb/YYhWI9ICylcL/8wyenyGfz5x/w7m27df96zUskoUXbKwAWQ234FL2X6DbNtmiebLGWEy/3cTyIkLfRzPLFDdWr34j01KkAhsfjo/78JCmb/Di2RqgkY3yNNjmi/WIvZRJwTg5SMMuR5ZPRIAfJDGKz3gyxy8yvuej6ZfWihpa2OR5nvFo+SGp0yYZQ5uWq2Oefmt4qLGZJJ6bWquNSOkpfD8A0hPmOaBzaBMAgReg5Utsrc0zVx8vSpEfs4vYDTCaP+X1SSu5vUodrfI566fPHXTYr9polZc8nbjN6qz6eJRxfvqEBDH9o2223Tz1l6vM/B4BGLqEBZuffr4C8YB2rYKVrR3nPOFYXBhjIcSjthzF5NDF9ZMY1dFmUTG9wwZ2qJGMInSzwEb6LZ6Df4Ac4igELTlmijskiMYVkxP2wB10OLADQruFldy+uWA5mekMRx8LbFzXY2dHv7j3bIEXm5c/aCbrpRq3a9TDEq+frxzPFBkGparLm81LlUtCI0lIGMPxgcmSL5ytsHvcX9U8/vfzN5+f/NKQw1IJp2zz+kmC4cH3yOTB/atnYy4TiOke1K+0Q3Ndl2h7B3/0mCdT5K4pSsMgIpm9PEAT9MWdYmyGnX3ql9rChY6Lk9xhxx19NIlulthav7yt2+Lps/+pg/HZc54Cg4MPMcwA64sXV75AaVqS0A85LjRuz3OwV6ISVfmrF2uQ3eVbRpGk98c8HXMs754nEIVEyeTYxaVv6iM87B7S8iMcu4VeurmYvJc4b+jXO/t7hBt7Sk86FhfHWAjxmC1HMenauBhsj1xQNjwsUfEq/Pjl2vEfynwFWp8x50mz2T1UDtG4B687/7ZK+vTv/GkP3NqYT7/VJ2xtQcep0Lpt/6ksZl6/EEbkB9ihgZnPXoxEG7dq+5heqvmrvVQDt0XTNdh+ukEi8YR8DgotDzafXHpmRDS615X0+UebZ+FgUL8yVbyCUaqQOu3XHkGUTF5zFBPoOZP8heo5QnNswnye/IVqJEnqutnNJBBFMJrpSpo0MUdNi1TRvtQXt3787ynGZiWTI69dfIGE2HiaST53MTttXK/62+KJPWqtBmH5OWtpWDXzZIoNnMEL1i69rKIomny7QJwrUY5Sp79MRJLkNS/rO+c5Gue1P+lztGeRzD9ncyS3lfWnPFvvE1Zv+t37jzPuHlD3MpSerZ+9gmZ+j5xvld5hHSdV5PnINyBtwrG4MMZCiEdtKYrJvusSZvKc97wf0qo76NsnVUAiS04rULerbGy+ndXkQ+SQ0FIko5DRCYZjGroWceMkgWthk6NxWlgNunRZZ33a03SJVdKXK4ekTiqVYX1tyhP8sUPLTWFUT7fXp9vVWF9fIf3iC3529sQBrhuRLY25wC0OidBIjTmkfdsmMLY5nSsedruE6+ukgdWNp6wOe3QOLRpWhkZ969qLpldW11i5lLKvpQiza0x6Jjala0RRCFf24mLZSXKls4HBcQKM0gztOFfSV045D/UUKW2dyYfmhngSK7z52ebZMy+3VhsVBhGpC6f1b84zsbbJ03hAt21hNVwKzTrXvk3uI08thRY54wvCuM9hw0EvPGd9BSCm2/VZX5/y9X0v43E8w9kMc7w4maE8e+/e6T0S0z1o4GdLPDt5EZ+9PyYci6tjLIR4rJbgBpwhju2RKeRHTpX5uBeuAUyQ1MD3grFbWLwHyiGTRQ98/Cs/WCWTifCDixfD30sP3Ps2aS/VEf39Es1Mg/rWmHIvCAgyxtl1lt3d7/GdT9vE9Gk1PXTj9LrQLi3nUs/cpEYqY5BL+bTs3lxvRtIzOsHYsb+hL+5CTBjPsE1lO6DS2j6baTwXE/gRema0ypxgu4kkKT2LYSRxmjb9+0zrsoRORgvwr9yhfUMf4QW4sV/viMnfIzBRT+lbx2LcGAshHqvHX0zGDpajU8iPflWPrpxDSp48/FZ6qBxWDQwc3DFLlGTNDL7tXXgsCnxCLYm3v4Od3aas2bQ6HY72G4S5ImMv0Zq3KMAPNXD3qfkm1UKEZXXoHO7TIs+zSzM2/cNX1NjG+nwTbUy1F7sOGMbZhGzoBZAMaO02SVWqZFyLdueIgz2PbGHzZF4wZtAfECdWSa89YaucwyuVaMzxRu+EYZJy3TEfygblsobdPKLTPmCvXMVJ5TAW9hk9QTzDDnvbDmbzxzxfY0wR7mH7mUtLWN283XjQZ8gKq+k1Np6XydhFyofzXItnHdMIcNyLj/b264TlBjUzYNvQePfdFAXHpLK1gAEZHlGzM9QaJVKtAvq77/I1o4ZWLl147077Hok7dRraNs3tLG5JR3v3XTLlkGLl+P0x2ViMG2MhxKM1h7Ur5y5wWqrlHi/rGVkFlTIuL37rqWo2o0bXwbaLKZWbY0uqaS0qB6+aU4VxvayilirmxvSdvaceuDeaetHyCXqpKqV8q67q9sky7JGt6o3L2UXKKuZU9dLD0ej2LvVbVUopFdRVTsud91X1a8pIGqo2xQrMVmnaRcsD1cjn1dXOfRP0xVWzj830i2TfEs8krdW8msoVWpcW7r1pu56qZrWR17WrKhlNmVN0C5ppMXCnrHKXjvUkfYSPW9AZV153k5gqztv69aoZ3yM39pSecCzGjrEQ4rF6hMVkoOoGKmk2Vag8VctlVXlMs2KnlB35gxaqhjnbH+/5WGAOYUsVC+M73XjV/Ng4bt/mHdt+Rb5yvRn2e1NIraLSR1t4kVT5y9Vb0FCF4iwfaKGyGzXVtFzlubaqF3MqX3Om6ioQeu7U3YYiu6wKF14Ak/XFvdPYBO4U3T9ui2eS1mqRcip5VXWn2e5JUdS0leu5yqoWVK7QUFO9pKbK8zyuRqGkpukKGHmWatTLykylVK5cVw3rcou+ecQ53rzeI7ePxbgxFkI8Zo+wmFQqtOuqWmuoerWsKq1rPhqDlioXq6rlesptllWxYr9V34IXmUPQLKmyNWZLkaOqpfrV2cmlFCqrUlLNO/Rzi0Jfea53zezTPBzH3DiL+ba+uA/tHuLx6qpUvVyYT7jdKFCe6yrvIXu6jY13WdzhPXLTWCz1MRPiy+kdpZRa2Dn2uRvS7/lEWoa1R9vnaR45xHT2avi58tXFhPuH7LQ0Si825tTS6e3QP9zBSpUuLGnyKMQ9Dmo2mfLz4+ve4h5tyyXUMhjGW9DO7C7xDDvs1QPMl0+vLirwtuU5YtjepR4VeLm5XDeTzOU9ctMYCyEerSUvJsVN4hgS4z6U45g4kZhL/863xbW5PwoxMUs4Po/4dRfHMYnH+4Iaay7vkUc8xkKI60kxKYQQQgghZvb4lwYSQgghhBALI8WkEEIIIYSYmRSTQgghhBBiZlJMCiGEEEKImUkxKYQQQgghZibFpBBCCCGEmJkUk0IIIYQQYmZSTAohhBBCiJlJMSmEEEIIIWYmxaQQQgghhJiZFJNCCCGEEGJmUkwKIYQQQoiZSTEphBBCCCFm9v8DRGwUxoRvjgYAAAAASUVORK5CYII=)\n",
    "\n",
    "Aqui temos um caso diferente dos observados anteriormente. O método de Monte Carlo estudado tem seu real poder fundado no fato de que fornece resultados precisos a um custo computacional muito menor que outras formas de obter integrais quando se tem mais dimensões na função."
   ]
  }
 ],
 "metadata": {
  "kernelspec": {
   "display_name": "Python 3",
   "language": "python",
   "name": "python3"
  },
  "language_info": {
   "codemirror_mode": {
    "name": "ipython",
    "version": 3
   },
   "file_extension": ".py",
   "mimetype": "text/x-python",
   "name": "python",
   "nbconvert_exporter": "python",
   "pygments_lexer": "ipython3",
   "version": "3.10.6"
  },
  "orig_nbformat": 4,
  "vscode": {
   "interpreter": {
    "hash": "916dbcbb3f70747c44a77c7bcd40155683ae19c65e1c03b4aa3499c5328201f1"
   }
  }
 },
 "nbformat": 4,
 "nbformat_minor": 2
}
