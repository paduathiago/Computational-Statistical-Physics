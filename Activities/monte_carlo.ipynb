{
 "cells": [
  {
   "cell_type": "code",
   "execution_count": 74,
   "metadata": {},
   "outputs": [],
   "source": [
    "import numpy as np\n",
    "import matplotlib as plt"
   ]
  },
  {
   "cell_type": "code",
   "execution_count": 75,
   "metadata": {},
   "outputs": [],
   "source": [
    "def mc_1(n_points, function, y_max, a1=0, a2=1):    \n",
    "    hits = 0\n",
    "\n",
    "    shots_x = np.random.uniform(a1, a2, n_points)\n",
    "    shots_y = np.random.uniform(0, y_max, n_points)\n",
    "    shots = list(zip(shots_x, shots_y))\n",
    "    \n",
    "    for x, y in shots:\n",
    "        if y < function(x):\n",
    "            hits += 1\n",
    "            \n",
    "    result = (hits / n_points) * y_max * (a2-a1)\n",
    "    print(result)"
   ]
  },
  {
   "cell_type": "code",
   "execution_count": 67,
   "metadata": {},
   "outputs": [],
   "source": [
    "#def mc_2():"
   ]
  },
  {
   "attachments": {},
   "cell_type": "markdown",
   "metadata": {},
   "source": [
    "# Tarefa"
   ]
  },
  {
   "attachments": {},
   "cell_type": "markdown",
   "metadata": {},
   "source": [
    "### 1\n"
   ]
  },
  {
   "cell_type": "code",
   "execution_count": 2,
   "metadata": {},
   "outputs": [],
   "source": [
    "def tarefa_max_point(num_points, function, a1=0, a2=1):\n",
    "    points = []\n",
    "    for _ in range(num_points):\n",
    "        num = np.random.uniform(a1, a2)\n",
    "        points.append(function(num))\n",
    "    return max(points)"
   ]
  },
  {
   "cell_type": "code",
   "execution_count": 17,
   "metadata": {},
   "outputs": [],
   "source": [
    "def fun_1(x):\n",
    "    return 1 - x**2"
   ]
  },
  {
   "cell_type": "code",
   "execution_count": 89,
   "metadata": {},
   "outputs": [
    {
     "name": "stdout",
     "output_type": "stream",
     "text": [
      "0.6099999939661032\n",
      "0.6789999932835804\n",
      "0.6607999934636082\n"
     ]
    }
   ],
   "source": [
    "y_max = tarefa_max_point(10000, fun_1)\n",
    "mc_1(100, fun_1, y_max)\n",
    "mc_1(1000, fun_1, y_max)\n",
    "mc_1(10000, fun_1, y_max)"
   ]
  },
  {
   "attachments": {},
   "cell_type": "markdown",
   "metadata": {},
   "source": [
    "### 2\n"
   ]
  },
  {
   "cell_type": "code",
   "execution_count": 23,
   "metadata": {},
   "outputs": [],
   "source": [
    "def fun_2(x):\n",
    "    return np.exp(x)"
   ]
  },
  {
   "cell_type": "code",
   "execution_count": 90,
   "metadata": {},
   "outputs": [
    {
     "name": "stdout",
     "output_type": "stream",
     "text": [
      "1.5492237491227043\n",
      "1.704146124034975\n",
      "1.7098537904791111\n"
     ]
    }
   ],
   "source": [
    "y_max = tarefa_max_point(10000, fun_2)\n",
    "mc_1(100, fun_2, y_max)\n",
    "mc_1(1000, fun_2, y_max)\n",
    "mc_1(10000, fun_2, y_max)"
   ]
  },
  {
   "attachments": {},
   "cell_type": "markdown",
   "metadata": {},
   "source": [
    "### 3 "
   ]
  },
  {
   "cell_type": "code",
   "execution_count": 61,
   "metadata": {},
   "outputs": [
    {
     "name": "stdout",
     "output_type": "stream",
     "text": [
      "0.7080734182735712\n"
     ]
    }
   ],
   "source": [
    "def fun_3(x):\n",
    "    return np.sin(x) ** 2"
   ]
  },
  {
   "cell_type": "code",
   "execution_count": 93,
   "metadata": {},
   "outputs": [
    {
     "name": "stdout",
     "output_type": "stream",
     "text": [
      "1.5393803771543866\n",
      "1.5959290440702623\n",
      "1.569539666176187\n"
     ]
    }
   ],
   "source": [
    "y_max = tarefa_max_point(10000, fun_3, a2=np.pi)\n",
    "mc_1(100, fun_3, y_max, a2=np.pi)\n",
    "mc_1(1000, fun_3, y_max, a2=np.pi)\n",
    "mc_1(10000, fun_3, y_max, a2=np.pi)"
   ]
  }
 ],
 "metadata": {
  "kernelspec": {
   "display_name": "Python 3",
   "language": "python",
   "name": "python3"
  },
  "language_info": {
   "codemirror_mode": {
    "name": "ipython",
    "version": 3
   },
   "file_extension": ".py",
   "mimetype": "text/x-python",
   "name": "python",
   "nbconvert_exporter": "python",
   "pygments_lexer": "ipython3",
   "version": "3.10.6"
  },
  "orig_nbformat": 4
 },
 "nbformat": 4,
 "nbformat_minor": 2
}
