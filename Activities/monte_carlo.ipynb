{
 "cells": [
  {
   "cell_type": "code",
   "execution_count": 18,
   "metadata": {},
   "outputs": [],
   "source": [
    "import numpy as np\n",
    "import matplotlib.pyplot as plt"
   ]
  },
  {
   "cell_type": "code",
   "execution_count": 19,
   "metadata": {},
   "outputs": [],
   "source": [
    "def tarefa_max_point(num_points, function, a1=0, a2=1):\n",
    "    points = []\n",
    "    for _ in range(num_points):\n",
    "        num = np.random.uniform(a1, a2)\n",
    "        points.append(function(num))\n",
    "    return max(points)"
   ]
  },
  {
   "cell_type": "code",
   "execution_count": 20,
   "metadata": {},
   "outputs": [],
   "source": [
    "def mc_1(n_points, function, y_max, a1=0, a2=1):    \n",
    "    hits = 0\n",
    "\n",
    "    shots_x = np.random.uniform(a1, a2, n_points)\n",
    "    shots_y = np.random.uniform(0, y_max, n_points)\n",
    "    shots = list(zip(shots_x, shots_y))\n",
    "    \n",
    "    for x, y in shots:\n",
    "        if y < function(x):\n",
    "            hits += 1\n",
    "            \n",
    "    result = (hits / n_points) * y_max * (a2-a1)\n",
    "    print(result)"
   ]
  },
  {
   "cell_type": "code",
   "execution_count": 21,
   "metadata": {},
   "outputs": [],
   "source": [
    "def mc_2(n_points, function, a1=0, a2=1):\n",
    "    function_values_sum = 0\n",
    "    values = np.random.uniform(a1, a2, n_points)  # random values of x generated in the function's domain\n",
    "    for i in range(n_points):\n",
    "        function_values_sum += function(values[i])\n",
    "    \n",
    "    integral = (a2 - a1) / n_points * function_values_sum\n",
    "    return integral"
   ]
  },
  {
   "attachments": {},
   "cell_type": "markdown",
   "metadata": {},
   "source": [
    "# Tarefa"
   ]
  },
  {
   "attachments": {},
   "cell_type": "markdown",
   "metadata": {},
   "source": [
    "### 1\n"
   ]
  },
  {
   "cell_type": "code",
   "execution_count": 22,
   "metadata": {},
   "outputs": [],
   "source": [
    "def fun_1(x):\n",
    "    return 1 - x**2"
   ]
  },
  {
   "cell_type": "code",
   "execution_count": 23,
   "metadata": {},
   "outputs": [
    {
     "name": "stdout",
     "output_type": "stream",
     "text": [
      "0.7199999963060879\n",
      "0.6539999966446965\n",
      "0.6647999965892878\n"
     ]
    }
   ],
   "source": [
    "y_max = tarefa_max_point(10000, fun_1)\n",
    "mc_1(100, fun_1, y_max)\n",
    "mc_1(1000, fun_1, y_max)\n",
    "mc_1(10000, fun_1, y_max)"
   ]
  },
  {
   "cell_type": "code",
   "execution_count": 24,
   "metadata": {},
   "outputs": [
    {
     "name": "stdout",
     "output_type": "stream",
     "text": [
      "0.6323745968732685, 0.6573316787862038, 0.671517678848794\n"
     ]
    }
   ],
   "source": [
    "print(f\"{mc_2(100, fun_1)}, {mc_2(1000, fun_1)}, {mc_2(10000, fun_1)}\")"
   ]
  },
  {
   "attachments": {},
   "cell_type": "markdown",
   "metadata": {},
   "source": [
    "### 2\n"
   ]
  },
  {
   "cell_type": "code",
   "execution_count": 25,
   "metadata": {},
   "outputs": [],
   "source": [
    "def fun_2(x):\n",
    "    return np.exp(x)"
   ]
  },
  {
   "cell_type": "code",
   "execution_count": 26,
   "metadata": {},
   "outputs": [
    {
     "name": "stdout",
     "output_type": "stream",
     "text": [
      "1.739632434773632\n",
      "1.7314779077356306\n",
      "1.735555171254631\n"
     ]
    }
   ],
   "source": [
    "y_max = tarefa_max_point(10000, fun_2)\n",
    "mc_1(100, fun_2, y_max)\n",
    "mc_1(1000, fun_2, y_max)\n",
    "mc_1(10000, fun_2, y_max)"
   ]
  },
  {
   "cell_type": "code",
   "execution_count": 35,
   "metadata": {},
   "outputs": [
    {
     "name": "stdout",
     "output_type": "stream",
     "text": [
      "1.7786772522222913, 1.7167628801460422, 1.7206855948884434\n"
     ]
    }
   ],
   "source": [
    "print(f\"{mc_2(100, fun_2)}, {mc_2(1000, fun_2)}, {mc_2(10000, fun_2)}\")"
   ]
  },
  {
   "attachments": {},
   "cell_type": "markdown",
   "metadata": {},
   "source": [
    "### 3 "
   ]
  },
  {
   "cell_type": "code",
   "execution_count": 28,
   "metadata": {},
   "outputs": [],
   "source": [
    "def fun_3(x):\n",
    "    return np.sin(x) ** 2"
   ]
  },
  {
   "cell_type": "code",
   "execution_count": 33,
   "metadata": {},
   "outputs": [
    {
     "name": "stdout",
     "output_type": "stream",
     "text": [
      "1.9792033715453679\n",
      "1.5802211045830474\n",
      "1.552889248499802\n"
     ]
    }
   ],
   "source": [
    "y_max = tarefa_max_point(10000, fun_3, a2=np.pi)\n",
    "mc_1(100, fun_3, y_max, a2=np.pi)\n",
    "mc_1(1000, fun_3, y_max, a2=np.pi)\n",
    "mc_1(10000, fun_3, y_max, a2=np.pi)"
   ]
  },
  {
   "cell_type": "code",
   "execution_count": 34,
   "metadata": {},
   "outputs": [
    {
     "name": "stdout",
     "output_type": "stream",
     "text": [
      "1.4878380739462542, 1.5850521645220708, 1.5839111150837424\n"
     ]
    }
   ],
   "source": [
    "print(f\"{mc_2(100, fun_3, a2=np.pi)}, {mc_2(1000, fun_3, a2=np.pi)}, {mc_2(10000, fun_3, a2=np.pi)}\")"
   ]
  }
 ],
 "metadata": {
  "kernelspec": {
   "display_name": "Python 3",
   "language": "python",
   "name": "python3"
  },
  "language_info": {
   "codemirror_mode": {
    "name": "ipython",
    "version": 3
   },
   "file_extension": ".py",
   "mimetype": "text/x-python",
   "name": "python",
   "nbconvert_exporter": "python",
   "pygments_lexer": "ipython3",
   "version": "3.10.6"
  },
  "orig_nbformat": 4
 },
 "nbformat": 4,
 "nbformat_minor": 2
}
