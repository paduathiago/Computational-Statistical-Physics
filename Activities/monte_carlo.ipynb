{
 "cells": [
  {
   "cell_type": "code",
   "execution_count": 65,
   "metadata": {},
   "outputs": [],
   "source": [
    "import numpy as np\n",
    "import matplotlib as plt\n",
    "import random"
   ]
  },
  {
   "cell_type": "code",
   "execution_count": 77,
   "metadata": {},
   "outputs": [],
   "source": [
    "def mc_1(n_points, function, y_max, a1=0, a2=1):    \n",
    "    hits = 0\n",
    "\n",
    "    shots_x = np.random.uniform(a1, a2, n_points)\n",
    "    shots_y = np.random.uniform(0, y_max, n_points)\n",
    "    shots = list(zip(shots_x, shots_y))\n",
    "    \n",
    "    for x, y in shots:\n",
    "        if y < function(x):\n",
    "            hits += 1\n",
    "            \n",
    "    result = hits / n_points\n",
    "    print(result)"
   ]
  },
  {
   "cell_type": "code",
   "execution_count": 67,
   "metadata": {},
   "outputs": [],
   "source": [
    "#def mc_2():"
   ]
  },
  {
   "attachments": {},
   "cell_type": "markdown",
   "metadata": {},
   "source": [
    "# Tarefa"
   ]
  },
  {
   "attachments": {},
   "cell_type": "markdown",
   "metadata": {},
   "source": [
    "### 1\n"
   ]
  },
  {
   "cell_type": "code",
   "execution_count": 68,
   "metadata": {},
   "outputs": [],
   "source": [
    "def tarefa_max_point(num_points, function, a1=0, a2=1):\n",
    "    points = []\n",
    "    for _ in range(num_points):\n",
    "        num = np.random.uniform(a1, a2)\n",
    "        points.append(function(num))\n",
    "    return max(points)"
   ]
  },
  {
   "cell_type": "code",
   "execution_count": 69,
   "metadata": {},
   "outputs": [],
   "source": [
    "def fun_1(x):\n",
    "    return 1 - x**2\n",
    "    "
   ]
  },
  {
   "cell_type": "code",
   "execution_count": 84,
   "metadata": {},
   "outputs": [
    {
     "name": "stdout",
     "output_type": "stream",
     "text": [
      "0.64\n",
      "0.672\n",
      "0.669\n"
     ]
    }
   ],
   "source": [
    "y_max = tarefa_max_point(10000, fun_1)\n",
    "mc_1(100, fun_1, y_max)\n",
    "mc_1(1000, fun_1, y_max)\n",
    "mc_1(10000, fun_1, y_max)"
   ]
  },
  {
   "attachments": {},
   "cell_type": "markdown",
   "metadata": {},
   "source": [
    "### 2\n"
   ]
  },
  {
   "cell_type": "code",
   "execution_count": 71,
   "metadata": {},
   "outputs": [],
   "source": [
    "def fun_2(x):\n",
    "    f2 = np.exp(x)\n",
    "    return f2"
   ]
  },
  {
   "cell_type": "code",
   "execution_count": 83,
   "metadata": {},
   "outputs": [
    {
     "name": "stdout",
     "output_type": "stream",
     "text": [
      "2.7182686928336848\n",
      "0.71\n",
      "0.64\n",
      "0.6346\n"
     ]
    }
   ],
   "source": [
    "y_max = tarefa_max_point(10000, fun_2)\n",
    "print(y_max)\n",
    "mc_1(100, fun_2, y_max)\n",
    "mc_1(1000, fun_2, y_max)\n",
    "mc_1(10000, fun_2, y_max)"
   ]
  },
  {
   "attachments": {},
   "cell_type": "markdown",
   "metadata": {},
   "source": [
    "### 3 "
   ]
  },
  {
   "cell_type": "code",
   "execution_count": null,
   "metadata": {},
   "outputs": [],
   "source": []
  }
 ],
 "metadata": {
  "kernelspec": {
   "display_name": "Python 3",
   "language": "python",
   "name": "python3"
  },
  "language_info": {
   "codemirror_mode": {
    "name": "ipython",
    "version": 3
   },
   "file_extension": ".py",
   "mimetype": "text/x-python",
   "name": "python",
   "nbconvert_exporter": "python",
   "pygments_lexer": "ipython3",
   "version": "3.10.6"
  },
  "orig_nbformat": 4
 },
 "nbformat": 4,
 "nbformat_minor": 2
}
