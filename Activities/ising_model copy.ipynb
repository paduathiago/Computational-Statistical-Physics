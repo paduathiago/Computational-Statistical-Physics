{
 "cells": [
  {
   "cell_type": "code",
   "execution_count": 4,
   "metadata": {},
   "outputs": [],
   "source": [
    "import numpy as np\n",
    "import matplotlib.pyplot as plt\n",
    "import random\n",
    "import pandas as pd\n",
    "\n",
    "from numba import jit"
   ]
  },
  {
   "attachments": {},
   "cell_type": "markdown",
   "metadata": {},
   "source": [
    "### Introdução\n",
    "A atividade a ser explorada neste trabalho diz respeito ao processo de termalização. Aqui será apresentada uma simulação do modelo de Ising 2D com base no algoritmo de Metropolis. \n",
    "O modelo de Ising 2D pode ser entendido como um grid de pontos, no qual cada ponto representa um spin, isto é, um momento magnético. Cada spin pode assumir dois valores: +1 ou -1. O modelo de Ising 2D é um modelo de mecânica estatística que descreve a interação entre spins vizinhos."
   ]
  },
  {
   "cell_type": "code",
   "execution_count": 2,
   "metadata": {},
   "outputs": [],
   "source": [
    "def initial_system_config(N):\n",
    "    \"\"\"\n",
    "    Define a configuração inicial do sistema aleatoriamente \n",
    "    S é um array unidimensional que recebe valores aleatórios -1 ou 1 em cada uma de suas posições\n",
    "    \"\"\"\n",
    "    S = np.random.randint(0,2,N)\n",
    "    S = 2 * S - 1\n",
    "    return S"
   ]
  },
  {
   "attachments": {},
   "cell_type": "markdown",
   "metadata": {},
   "source": [
    "Para fins de otimização, optou-se por representar o grid do modelo de ising como um array unidemensional. Para isso, foi necessário criar uma função que mapeia a posição de um spin no grid para a posição correspondente no array. Essa função é apresentada abaixo."
   ]
  },
  {
   "cell_type": "code",
   "execution_count": 3,
   "metadata": {},
   "outputs": [],
   "source": [
    "@jit(nopython=True)\n",
    "def vizinhos(N):\n",
    "    \"\"\"\n",
    "    Define a tabela de vizinhos\n",
    "    \"\"\"\n",
    "    L=int(np.sqrt(N))\n",
    "    viz = np.zeros((N,4),dtype=np.int16)\n",
    "    for k in range(N):\n",
    "        viz[k,0]=k+1\n",
    "        if (k+1) % L == 0:\n",
    "            viz[k,0] = k+1-L\n",
    "        viz[k,1] = k+L\n",
    "        if k > (N-L-1):\n",
    "            viz[k,1] = k+L-N\n",
    "        viz[k,2] = k-1\n",
    "        if (k % L == 0):\n",
    "            viz[k,2] = k+L-1\n",
    "        viz[k,3] = k-L\n",
    "        if k < L:\n",
    "            viz[k,3] = k+N-L\n",
    "    return viz"
   ]
  },
  {
   "attachments": {},
   "cell_type": "markdown",
   "metadata": {},
   "source": [
    "Seguindo com otimizações, aqui temos uma função que define um vetor de 5 posições de acordo com as possibilidades de valor para a diferença de energia entre dois estados. Essa função é utilizada para evitar o cálculo da exponencial de um número muito grande e muitas vezes, armazenanado os valores possíveis em um vetor e acessando-os quando necessário."
   ]
  },
  {
   "cell_type": "code",
   "execution_count": 4,
   "metadata": {},
   "outputs": [],
   "source": [
    "def expos(beta):\n",
    "    ex = np.zeros(5,dtype=np.float32)\n",
    "    ex[0]=np.exp(8.0*beta)\n",
    "    ex[1]=np.exp(4.0*beta)\n",
    "    ex[2]=1.0\n",
    "    ex[3]=np.exp(-4.0*beta)\n",
    "    ex[4]=np.exp(-8.0*beta)\n",
    "    return ex"
   ]
  },
  {
   "attachments": {},
   "cell_type": "markdown",
   "metadata": {},
   "source": [
    "Em seguida é a presentada a função que calcula a energia do sistema, a qual é utilizada para calcular a energia do sistema antes e depois de uma mudança de spin(flip). A diferença entre esses dois valores é utilizada para calcular a probabilidade de aceitação da mudança de spin. Aprofundaremos esses conceitos mais adiante."
   ]
  },
  {
   "cell_type": "code",
   "execution_count": 5,
   "metadata": {},
   "outputs": [],
   "source": [
    "@jit(nopython=True)\n",
    "def energy(N, viz, S):\n",
    "    E = 0.0\n",
    "    for i in range(N):\n",
    "        h = S[viz[i,0]] + S[viz[i,1]]\n",
    "        E += -S[i]*h\n",
    "    return E"
   ]
  },
  {
   "attachments": {},
   "cell_type": "markdown",
   "metadata": {},
   "source": [
    "Aqui temos o algoritmo de Metropolis, que é utilizado para simular o modelo de Ising 2D. O algoritmo consiste em um loop que itera sobre cada spin do grid. Para cada spin, é calculada a energia do sistema antes e depois de um flip. A diferença entre esses dois valores é utilizada para calcular a probabilidade de aceitação da mudança de spin. Caso a probabilidade de aceitação seja maior que um número aleatório entre 0 e 1, o flip é aceito. Caso contrário, o flip é rejeitado. Esse processo é repetido até que o sistema atinja o equilíbrio."
   ]
  },
  {
   "cell_type": "code",
   "execution_count": 6,
   "metadata": {},
   "outputs": [],
   "source": [
    "def metroplis_ising(N, T, mc_steps):    \n",
    "    beta = 1/T\n",
    "    ex = expos(beta)\n",
    "    S = initial_system_config(N)\n",
    "    energy_system = []\n",
    "    magnetizations = []\n",
    "    viz = vizinhos(N)\n",
    "    \n",
    "    for _ in range(mc_steps):\n",
    "        for spin in range(N):\n",
    "            h = S[viz[spin,0]] + S[viz[spin,1]] + S[viz[spin,2]] + S[viz[spin,3]] # soma dos vizinhos\n",
    "            de = int(S[spin] * h * 0.5 + 2)\n",
    "            if random.random() < ex[de]:  # random.random gera um número aleatório entre 0 e 1\n",
    "                S[spin] = -S[spin]\n",
    "        energy_system.append(energy(N, viz, S))   \n",
    "        magnetizations.append(np.sum(S)) \n",
    "    \n",
    "    return energy_system, magnetizations\n",
    "\n",
    "# Temperatura está em unidades de j/kB, onde kb é a constante de Boltzmann"
   ]
  },
  {
   "attachments": {},
   "cell_type": "markdown",
   "metadata": {},
   "source": [
    "As duas funções abaixo são usadas para plotar tanto os estados de energia quanto a magnetização do sistema. O eixo y representa a energia ou a magnetização, enquanto o eixo x representa o número de iterações (passos de Monte Carlo)."
   ]
  },
  {
   "cell_type": "code",
   "execution_count": 7,
   "metadata": {},
   "outputs": [],
   "source": [
    "def _plot(values, mc_steps, N, T, xlabel='Monte Carlo Step', ylabel='Energy', title='Energy vs MC steps'):\n",
    "    for value in values:\n",
    "        plt.plot(mc_steps, value)\n",
    "\n",
    "    title = f'{title} (N={N}, T={T})'\n",
    "    plt.title(title)\n",
    "    plt.xlabel(xlabel)\n",
    "    plt.ylabel(ylabel)\n",
    "    plt.show()"
   ]
  },
  {
   "cell_type": "code",
   "execution_count": 8,
   "metadata": {},
   "outputs": [],
   "source": [
    "def plot_systems_energy(systems, magnetizations, N, T, mc_steps=1000):\n",
    "    mc_steps = np.arange(0, mc_steps, 1)\n",
    "    _plot(systems, mc_steps, N, T)\n",
    "    _plot(magnetizations, mc_steps, N, T, ylabel='Magnetization', title='Magnetization vs MC steps')"
   ]
  },
  {
   "attachments": {},
   "cell_type": "markdown",
   "metadata": {},
   "source": [
    "Abaixo encontram-se as funções que manejam o algoritmo de Metropolis. Elas recebem como parâmetros o estado inicial do sistema, o número de iterações (passos de Monte Carlo) e a temperatura. Ela retorna o número de spins, temperatura, energia e magnetização definidos para o sistema a partir da chamada de metropolis_ising. Os dois últimos encontram-se em listas, nas quais cada uma das posições dizem respeito ao estado do sistema após um passo de monte carlo.\n",
    "\n",
    "Aqui optou-se por permitir ao usuário que escolha entre a configuração padrão - definida pelo enunciado da atividade - ou uma configuração aleatória. O controlador disso é o parâmetro standard, que por padrão é True, definindo 1024 spins e temperatura = 1.5. Caso o usuário queira uma configuração aleatória, basta passar o parâmetro como False e então serão gerados N e T em um intervalo definido T = [0.4, 3] real  e N = [20, 100] inteiro."
   ]
  },
  {
   "cell_type": "code",
   "execution_count": 9,
   "metadata": {},
   "outputs": [],
   "source": [
    "def generate_systems(N=1024, T=1.5, n_systems=10,  mc_steps=1000):\n",
    "    \"\"\"\n",
    "    Função para gerar sistemas A partir de valores definidos de Número de spins(N) e Temperatura (T). \\n\n",
    "    O caso de padrão tem temperatura é fixa em 1.5 e o tamanho de cada sistema em 1024 spins.\n",
    "    \"\"\"\n",
    "    energies = []\n",
    "    magnetizations = []\n",
    "\n",
    "    for _ in range(n_systems):\n",
    "        energy, magnetization = metroplis_ising(N, T, mc_steps)\n",
    "        energies.append(energy)\n",
    "        magnetizations.append(magnetization)\n",
    "        \n",
    "    return energies, magnetizations, N, T"
   ]
  },
  {
   "cell_type": "code",
   "execution_count": 10,
   "metadata": {},
   "outputs": [],
   "source": [
    "def generate_random_systems(L_range=[24,100], T_range=[0.4, 3], n_systems=10,  mc_steps=1000):\n",
    "    \"\"\"\n",
    "    Função para gerar sistemas aleatórios \\n\n",
    "    No caso de aleatórios a temperatura e o tamanho do sistema são gerados aleatoriamente\n",
    "    dentro dos intervalos definidos por T_range e N_range, respectivamente, que são listas de dois valores.\n",
    "    \"\"\"\n",
    "    energies = []\n",
    "    magnetizations = []\n",
    "    \n",
    "    T = np.random.uniform(T_range[0], T_range[1])\n",
    "    N = np.random.randint(L_range[0], L_range[1]) ** 2\n",
    "\n",
    "    for _ in range(n_systems):\n",
    "        energy, magnetization = metroplis_ising(N, T, mc_steps)\n",
    "        energies.append(energy)\n",
    "        magnetizations.append(magnetization)\n",
    "        \n",
    "    return energies, magnetizations, N, T"
   ]
  },
  {
   "cell_type": "code",
   "execution_count": null,
   "metadata": {},
   "outputs": [],
   "source": [
    "def specific_heat(N=1024, T=1.5, energies=None, mc_steps=1000):\n",
    "    \"\"\"\n",
    "    Calculates the specific heat of the system\n",
    "    \"\"\"\n",
    "    if energies is None:\n",
    "        energies, _, _, _ = generate_systems(N, T, 1, mc_steps)\n",
    "    \n",
    "    energies = np.array(energies)\n",
    "    energy_mean = np.mean(energies)\n",
    "    energy_mean2 = np.mean(energies**2)\n",
    "    \n",
    "    specific_heat = (energy_mean2 - energy_mean**2) * ((1/T**2) / N)\n",
    "\n",
    "    return specific_heat"
   ]
  },
  {
   "cell_type": "code",
   "execution_count": null,
   "metadata": {},
   "outputs": [],
   "source": [
    "def magnetic_susceptibility(N=1024, T=1.5, magnetizations=None, mc_steps=1000):\n",
    "    \"\"\"\n",
    "    Calculates the magnetic susceptibility of the system\n",
    "    \"\"\"\n",
    "    if magnetizations is None:\n",
    "        _, magnetizations, _, _ = generate_systems(N, T, 1, mc_steps)\n",
    "    \n",
    "    magnetizations = np.array(magnetizations)\n",
    "    magnetizations = np.absolute(magnetizations)\n",
    "    magnetization_mean = np.mean(magnetizations)\n",
    "    magnetization_mean2 = np.mean(magnetizations**2)\n",
    "    \n",
    "    magnetic_susceptibility = (magnetization_mean2 - magnetization_mean**2) * ((1/T) / N)\n",
    "\n",
    "    return magnetic_susceptibility"
   ]
  },
  {
   "cell_type": "code",
   "execution_count": null,
   "metadata": {},
   "outputs": [],
   "source": [
    "def energyPerSpin(energyList, size):\n",
    "    energyPerSpin = np.mean(energyList)/(size*size)\n",
    "    return energyPerSpin"
   ]
  },
  {
   "cell_type": "code",
   "execution_count": null,
   "metadata": {},
   "outputs": [],
   "source": [
    "def magnetizationPerSpin(magnetizationList, size):\n",
    "    magnetizationPerSpin = np.mean(magnetizationList)/(size*size)\n",
    "    return magnetizationPerSpin"
   ]
  },
  {
   "cell_type": "code",
   "execution_count": 13,
   "metadata": {},
   "outputs": [
    {
     "name": "stdout",
     "output_type": "stream",
     "text": [
      "[array([1, 2]), array([3, 4]), array([5, 6]), array([7, 8]), array([ 9, 10])] [[1.5, 3.5, 5.5, 7.5, 9.5]]\n"
     ]
    }
   ],
   "source": [
    "values_list = np.array([1, 2, 3, 4, 5, 6, 7, 8, 9, 10])\n",
    "n_blocks = 5\n",
    "\n",
    "boxes = np.array_split(values_list, n_blocks)\n",
    "values_estimate = [[np.mean(box) for box in boxes]]\n",
    "print(boxes, values_estimate)"
   ]
  },
  {
   "cell_type": "code",
   "execution_count": 16,
   "metadata": {},
   "outputs": [],
   "source": [
    "def calc_error(mean_value, boxes):\n",
    "    \"\"\"\n",
    "    Calculates the statistical error of the values\n",
    "    \"\"\"\n",
    "    return np.sqrt(np.sum((np.repeat(mean_value, len(boxes)) - boxes)**2) / len(boxes) * (len(boxes) - 1))"
   ]
  },
  {
   "cell_type": "code",
   "execution_count": null,
   "metadata": {},
   "outputs": [],
   "source": [
    "def statistical_error_boxes_method(n_blocks, values_list, N, T, mc_steps=1000):\n",
    "    boxes = np.array_split(values_list, n_blocks)\n",
    "    values_estimate = [np.mean(box) for box in boxes]\n",
    "    \n",
    "    sh = [specific_heat(N, T, value, mc_steps) for value in values_estimate]\n",
    "    sh = np.mean(sh)\n",
    "    \n",
    "    return calc_error(sh, values_estimate)"
   ]
  }
 ],
 "metadata": {
  "kernelspec": {
   "display_name": "Python 3",
   "language": "python",
   "name": "python3"
  },
  "language_info": {
   "codemirror_mode": {
    "name": "ipython",
    "version": 3
   },
   "file_extension": ".py",
   "mimetype": "text/x-python",
   "name": "python",
   "nbconvert_exporter": "python",
   "pygments_lexer": "ipython3",
   "version": "3.10.6"
  },
  "orig_nbformat": 4
 },
 "nbformat": 4,
 "nbformat_minor": 2
}
