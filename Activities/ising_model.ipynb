{
 "cells": [
  {
   "cell_type": "code",
   "execution_count": 55,
   "metadata": {},
   "outputs": [],
   "source": [
    "import numpy as np\n",
    "import matplotlib.pyplot as plt\n",
    "\n",
    "from numba import jit"
   ]
  },
  {
   "cell_type": "code",
   "execution_count": 56,
   "metadata": {},
   "outputs": [],
   "source": [
    "def initial_system_config(N):\n",
    "    # Define a configuração inicial do sistema\n",
    "    # S rcebe valores aleatórios -1 ou 1\n",
    "    S = np.random.randint(0,2,N)\n",
    "    S = 2 * S - 1\n",
    "    return S"
   ]
  },
  {
   "cell_type": "code",
   "execution_count": 57,
   "metadata": {},
   "outputs": [],
   "source": [
    "def expos(beta):\n",
    "    ex = np.zeros(5,dtype=np.float32)\n",
    "    ex[0]=np.exp(8.0*beta)\n",
    "    ex[1]=np.exp(4.0*beta)\n",
    "    ex[2]=1.0\n",
    "    ex[3]=np.exp(-4.0*beta)\n",
    "    ex[4]=np.exp(-8.0*beta)\n",
    "    return ex"
   ]
  },
  {
   "cell_type": "code",
   "execution_count": 58,
   "metadata": {},
   "outputs": [],
   "source": [
    "@jit(nopython=True)\n",
    "def vizinhos(N):\n",
    "    # Define a tabela de vizinhos\n",
    "    L=int(np.sqrt(N))\n",
    "    viz = np.zeros((N,4),dtype=np.int16)\n",
    "    for k in range(N):\n",
    "        viz[k,0]=k+1\n",
    "        if (k+1) % L == 0:\n",
    "            viz[k,0] = k+1-L\n",
    "        viz[k,1] = k+L\n",
    "        if k > (N-L-1):\n",
    "            viz[k,1] = k+L-N\n",
    "        viz[k,2] = k-1\n",
    "        if (k % L == 0):\n",
    "            viz[k,2] = k+L-1\n",
    "        viz[k,3] = k-L\n",
    "        if k < L:\n",
    "            viz[k,3] = k+N-L\n",
    "    return viz"
   ]
  },
  {
   "cell_type": "code",
   "execution_count": 59,
   "metadata": {},
   "outputs": [],
   "source": [
    "def energy(N, viz, S):\n",
    "    E = 0.0\n",
    "    for i in range(N):\n",
    "        h = S[viz[i,0]] + S[viz[i,1]]\n",
    "        E += -S[i]*h\n",
    "    return E"
   ]
  },
  {
   "cell_type": "code",
   "execution_count": 60,
   "metadata": {},
   "outputs": [],
   "source": [
    "def metroplis_ising(N, T, mc_steps):    \n",
    "# Passos gerais do algoritmo\n",
    "    beta = 1/T\n",
    "    ex = expos(beta)\n",
    "    S = initial_system_config(N)\n",
    "    viz = vizinhos(N)\n",
    "    r = np.random.uniform(0,1)\n",
    "    energy_system = []\n",
    "    for _ in range(mc_steps):\n",
    "        spin = np.random.randint(0, N-1)\n",
    "        h = S[viz[spin,0]] + S[viz[spin,1]] + S[viz[spin,2]] + S[viz[spin,3]] # soma dos vizinhos\n",
    "        de = int(S[spin] * h * 0.5 + 2)\n",
    "        P = ex[de]\n",
    "        if r <= P:\n",
    "            S[spin] = -S[spin]\n",
    "        energy_system.append(energy(N, viz, S))\n",
    "    \n",
    "    return energy_system\n",
    "# Temperatura está em unidades de j/kB, onde kb é a constante de Boltzmann"
   ]
  },
  {
   "cell_type": "code",
   "execution_count": 61,
   "metadata": {},
   "outputs": [],
   "source": [
    "def _plot(energy, mc_steps):\n",
    "    plt.plot(mc_steps, energy)\n",
    "\n",
    "    plt.xlabel('Monte Carlo Steps')\n",
    "    plt.ylabel('Energy')\n",
    "    plt.show()"
   ]
  },
  {
   "cell_type": "code",
   "execution_count": 62,
   "metadata": {},
   "outputs": [],
   "source": [
    "def plot_random_systems_energy(systems, mc_steps=1000):\n",
    "    mc_steps = np.arange(0, mc_steps, 1)\n",
    "    _plot(systems, mc_steps)\n"
   ]
  },
  {
   "cell_type": "code",
   "execution_count": 63,
   "metadata": {},
   "outputs": [],
   "source": [
    "def generate_systems(T_range, N_range, n_systems=10,  mc_steps=1000):\n",
    "    systems = []\n",
    "    for _ in range(n_systems):\n",
    "        T = np.random.uniform(T_range[0], T_range[1])\n",
    "        N = np.random.randint(N_range[0], N_range[1]) ** 2\n",
    "        systems.append(metroplis_ising(N, T, mc_steps))\n",
    "    return systems"
   ]
  },
  {
   "cell_type": "code",
   "execution_count": 64,
   "metadata": {},
   "outputs": [
    {
     "ename": "TypeError",
     "evalue": "plot_random_systems_energy() missing 2 required positional arguments: 'T' and 'N'",
     "output_type": "error",
     "traceback": [
      "\u001b[0;31m---------------------------------------------------------------------------\u001b[0m",
      "\u001b[0;31mTypeError\u001b[0m                                 Traceback (most recent call last)",
      "Cell \u001b[0;32mIn[64], line 2\u001b[0m\n\u001b[1;32m      1\u001b[0m systems \u001b[39m=\u001b[39m generate_systems(\u001b[39m20\u001b[39m, \u001b[39m10000\u001b[39m)\n\u001b[0;32m----> 2\u001b[0m plot_random_systems_energy(systems)\n",
      "\u001b[0;31mTypeError\u001b[0m: plot_random_systems_energy() missing 2 required positional arguments: 'T' and 'N'"
     ]
    }
   ],
   "source": [
    "systems = generate_systems(20, 1000)\n",
    "plot_random_systems_energy(systems)"
   ]
  }
 ],
 "metadata": {
  "kernelspec": {
   "display_name": "Python 3",
   "language": "python",
   "name": "python3"
  },
  "language_info": {
   "codemirror_mode": {
    "name": "ipython",
    "version": 3
   },
   "file_extension": ".py",
   "mimetype": "text/x-python",
   "name": "python",
   "nbconvert_exporter": "python",
   "pygments_lexer": "ipython3",
   "version": "3.10.6"
  },
  "orig_nbformat": 4
 },
 "nbformat": 4,
 "nbformat_minor": 2
}
