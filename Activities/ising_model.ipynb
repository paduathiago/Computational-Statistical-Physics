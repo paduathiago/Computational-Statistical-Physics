{
 "cells": [
  {
   "cell_type": "code",
   "execution_count": 2,
   "metadata": {},
   "outputs": [],
   "source": [
    "import numpy as np\n",
    "import matplotlib.pyplot as plt\n",
    "\n",
    "\n",
    "from numba import jit"
   ]
  },
  {
   "cell_type": "code",
   "execution_count": 3,
   "metadata": {},
   "outputs": [],
   "source": [
    "def initial_system_config(N):\n",
    "    # Define a configuração inicial do sistema\n",
    "    # S rcebe valores aleatórios -1 ou 1\n",
    "    S = np.random.randint(0,2,N)\n",
    "    S = 2 * S - 1\n",
    "    return S"
   ]
  },
  {
   "cell_type": "code",
   "execution_count": 4,
   "metadata": {},
   "outputs": [],
   "source": [
    "def expos(beta):\n",
    "    ex = np.zeros(5,dtype=np.float32)\n",
    "    ex[0]=np.exp(8.0*beta)\n",
    "    ex[1]=np.exp(4.0*beta)\n",
    "    ex[2]=1.0\n",
    "    ex[3]=np.exp(-4.0*beta)\n",
    "    ex[4]=np.exp(-8.0*beta)\n",
    "    return ex"
   ]
  },
  {
   "cell_type": "code",
   "execution_count": 5,
   "metadata": {},
   "outputs": [],
   "source": [
    "@jit(nopython=True)\n",
    "def vizinhos(N):\n",
    "    # Define a tabela de vizinhos\n",
    "    L=int(np.sqrt(N))\n",
    "    viz = np.zeros((N,4),dtype=np.int16)\n",
    "    for k in range(N):\n",
    "        viz[k,0]=k+1\n",
    "        if (k+1) % L == 0:\n",
    "            viz[k,0] = k+1-L\n",
    "        viz[k,1] = k+L\n",
    "        if k > (N-L-1):\n",
    "            viz[k,1] = k+L-N\n",
    "        viz[k,2] = k-1\n",
    "        if (k % L == 0):\n",
    "            viz[k,2] = k+L-1\n",
    "        viz[k,3] = k-L\n",
    "        if k < L:\n",
    "            viz[k,3] = k+N-L\n",
    "    return viz"
   ]
  },
  {
   "cell_type": "code",
   "execution_count": 6,
   "metadata": {},
   "outputs": [],
   "source": [
    "def energy(N, viz, S):\n",
    "    E = 0.0\n",
    "    for i in range(N):\n",
    "        h = S(viz[i,0]) + S(viz[i,1])\n",
    "        E += -S(i)*h"
   ]
  },
  {
   "cell_type": "code",
   "execution_count": 8,
   "metadata": {},
   "outputs": [
    {
     "ename": "TypeError",
     "evalue": "'numpy.ndarray' object is not callable",
     "output_type": "error",
     "traceback": [
      "\u001b[0;31m---------------------------------------------------------------------------\u001b[0m",
      "\u001b[0;31mTypeError\u001b[0m                                 Traceback (most recent call last)",
      "Cell \u001b[0;32mIn[8], line 20\u001b[0m\n\u001b[1;32m     16\u001b[0m         energy_system\u001b[39m.\u001b[39mappend(energy(N, viz, S))\n\u001b[1;32m     18\u001b[0m     \u001b[39mreturn\u001b[39;00m energy_system\n\u001b[0;32m---> 20\u001b[0m metroplis_ising(\u001b[39m1024\u001b[39;49m, \u001b[39m1.5\u001b[39;49m)\n\u001b[1;32m     23\u001b[0m \u001b[39m# Temperatura está em unidades de j/kB, onde kb é a constante de Boltzmann\u001b[39;00m\n",
      "Cell \u001b[0;32mIn[8], line 16\u001b[0m, in \u001b[0;36mmetroplis_ising\u001b[0;34m(N, T)\u001b[0m\n\u001b[1;32m     14\u001b[0m     \u001b[39mif\u001b[39;00m r \u001b[39m<\u001b[39m\u001b[39m=\u001b[39m P:\n\u001b[1;32m     15\u001b[0m         S[spin] \u001b[39m=\u001b[39m \u001b[39m-\u001b[39mS[spin]\n\u001b[0;32m---> 16\u001b[0m     energy_system\u001b[39m.\u001b[39mappend(energy(N, viz, S))\n\u001b[1;32m     18\u001b[0m \u001b[39mreturn\u001b[39;00m energy_system\n",
      "Cell \u001b[0;32mIn[6], line 4\u001b[0m, in \u001b[0;36menergy\u001b[0;34m(N, viz, S)\u001b[0m\n\u001b[1;32m      2\u001b[0m E \u001b[39m=\u001b[39m \u001b[39m0.0\u001b[39m\n\u001b[1;32m      3\u001b[0m \u001b[39mfor\u001b[39;00m i \u001b[39min\u001b[39;00m \u001b[39mrange\u001b[39m(N):\n\u001b[0;32m----> 4\u001b[0m     h \u001b[39m=\u001b[39m S(viz[i,\u001b[39m0\u001b[39;49m]) \u001b[39m+\u001b[39m S(viz[i,\u001b[39m1\u001b[39m])\n\u001b[1;32m      5\u001b[0m     E \u001b[39m+\u001b[39m\u001b[39m=\u001b[39m \u001b[39m-\u001b[39mS(i)\u001b[39m*\u001b[39mh\n",
      "\u001b[0;31mTypeError\u001b[0m: 'numpy.ndarray' object is not callable"
     ]
    }
   ],
   "source": [
    "def metroplis_ising(N, T):    \n",
    "# Passos gerais do algoritmo\n",
    "    beta = 1/T\n",
    "    ex = expos(beta)\n",
    "    S = initial_system_config(N)\n",
    "    viz = vizinhos(N)\n",
    "    r = np.random.uniform(0,1)\n",
    "    energy_system = []\n",
    "    for _ in range(1000):\n",
    "        spin = np.random.randint(0, N-1)\n",
    "        h = S[viz[spin,0]] + S[viz[spin,1]] + S[viz[spin,2]] + S[viz[spin,3]] # soma dos vizinhos\n",
    "        de = int(S[spin] * h * 0.5 + 2)\n",
    "        P = ex[de]\n",
    "        if r <= P:\n",
    "            S[spin] = -S[spin]\n",
    "        energy_system.append(energy(N, viz, S))\n",
    "    \n",
    "    return energy_system\n",
    "    \n",
    "metroplis_ising(1024, 1.5)\n",
    "        \n",
    "\n",
    "# Temperatura está em unidades de j/kB, onde kb é a constante de Boltzmann"
   ]
  }
 ],
 "metadata": {
  "kernelspec": {
   "display_name": "Python 3",
   "language": "python",
   "name": "python3"
  },
  "language_info": {
   "codemirror_mode": {
    "name": "ipython",
    "version": 3
   },
   "file_extension": ".py",
   "mimetype": "text/x-python",
   "name": "python",
   "nbconvert_exporter": "python",
   "pygments_lexer": "ipython3",
   "version": "3.10.6"
  },
  "orig_nbformat": 4
 },
 "nbformat": 4,
 "nbformat_minor": 2
}
