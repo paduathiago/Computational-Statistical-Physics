{
 "cells": [
  {
   "cell_type": "code",
   "execution_count": 2,
   "metadata": {},
   "outputs": [],
   "source": [
    "import numpy as np\n",
    "import matplotlib.pyplot as plt\n",
    "\n",
    "\n",
    "from numba import jit"
   ]
  },
  {
   "cell_type": "code",
   "execution_count": 3,
   "metadata": {},
   "outputs": [],
   "source": [
    "def initial_system_config(N):\n",
    "    # Define a configuração inicial do sistema\n",
    "    # S rcebe valores aleatórios -1 ou 1\n",
    "    S = np.random.randint(0,2,N)\n",
    "    S = 2 * S - 1\n",
    "    return S"
   ]
  },
  {
   "cell_type": "code",
   "execution_count": 4,
   "metadata": {},
   "outputs": [],
   "source": [
    "def expos(beta):\n",
    "    ex = np.zeros(5,dtype=np.float32)\n",
    "    ex[0]=np.exp(8.0*beta)\n",
    "    ex[1]=np.exp(4.0*beta)\n",
    "    ex[2]=1.0\n",
    "    ex[3]=np.exp(-4.0*beta)\n",
    "    ex[4]=np.exp(-8.0*beta)\n",
    "    return ex"
   ]
  },
  {
   "cell_type": "code",
   "execution_count": 5,
   "metadata": {},
   "outputs": [],
   "source": [
    "@jit(nopython=True)\n",
    "def vizinhos(N):\n",
    "    # Define a tabela de vizinhos\n",
    "    L=int(np.sqrt(N))\n",
    "    viz = np.zeros((N,4),dtype=np.int16)\n",
    "    for k in range(N):\n",
    "        viz[k,0]=k+1\n",
    "        if (k+1) % L == 0:\n",
    "            viz[k,0] = k+1-L\n",
    "        viz[k,1] = k+L\n",
    "        if k > (N-L-1):\n",
    "            viz[k,1] = k+L-N\n",
    "        viz[k,2] = k-1\n",
    "        if (k % L == 0):\n",
    "            viz[k,2] = k+L-1\n",
    "        viz[k,3] = k-L\n",
    "        if k < L:\n",
    "            viz[k,3] = k+N-L\n",
    "    return viz"
   ]
  },
  {
   "cell_type": "code",
   "execution_count": 6,
   "metadata": {},
   "outputs": [],
   "source": [
    "def energy(N, viz, S):\n",
    "    E = 0.0\n",
    "    for i in range(N):\n",
    "        h = S(viz[i,0]) + S(viz[i,1])\n",
    "        E += -S(i)*h"
   ]
  },
  {
   "cell_type": "code",
   "execution_count": 7,
   "metadata": {},
   "outputs": [
    {
     "data": {
      "text/plain": [
       "0.5484627261190148"
      ]
     },
     "execution_count": 7,
     "metadata": {},
     "output_type": "execute_result"
    }
   ],
   "source": [
    "def metroplis_ising(N, T):    \n",
    "# Passos gerais do algoritmo\n",
    "    beta = 1/T\n",
    "    ex = expos(beta)\n",
    "    S = initial_system_config(N)\n",
    "    viz = vizinhos(N)\n",
    "    r = np.random.uniform(0,1)\n",
    "    for _ in range(1000):\n",
    "        spin = np.random.randint(0, N-1)\n",
    "        h = S[viz[spin,0]] + S[viz[spin,1]] + S[viz[spin,2]] + S[viz[spin,3]] # soma dos vizinhos\n",
    "        de = int(S[spin] * h * 0.5 + 2)\n",
    "        P = ex[de]\n",
    "        if r <= P:\n",
    "            S[spin] = -S[spin]\n",
    "    return S\n",
    "        \n",
    "\n",
    "# Temperatura está em unidades de j/kB, onde kb é a constante de Boltzmann"
   ]
  }
 ],
 "metadata": {
  "kernelspec": {
   "display_name": "Python 3",
   "language": "python",
   "name": "python3"
  },
  "language_info": {
   "codemirror_mode": {
    "name": "ipython",
    "version": 3
   },
   "file_extension": ".py",
   "mimetype": "text/x-python",
   "name": "python",
   "nbconvert_exporter": "python",
   "pygments_lexer": "ipython3",
   "version": "3.8.10"
  },
  "orig_nbformat": 4
 },
 "nbformat": 4,
 "nbformat_minor": 2
}
