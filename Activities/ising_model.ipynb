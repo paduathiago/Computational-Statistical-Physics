{
 "cells": [
  {
   "cell_type": "code",
   "execution_count": null,
   "metadata": {},
   "outputs": [],
   "source": [
    "import numpy as np\n",
    "import matplotlib.pyplot as plt\n",
    "\n",
    "from numba import jit"
   ]
  },
  {
   "cell_type": "code",
   "execution_count": null,
   "metadata": {},
   "outputs": [],
   "source": [
    "def expos(beta):\n",
    "    ex = np.zeros(5,dtype=np.float32)\n",
    "    ex[0]=np.exp(8.0*beta)\n",
    "    ex[1]=np.exp(4.0*beta)\n",
    "    ex[2]=1.0\n",
    "    ex[3]=np.exp(-4.0*beta)\n",
    "    ex[4]=np.exp(-8.0*beta)\n",
    "    return ex"
   ]
  },
  {
   "cell_type": "code",
   "execution_count": null,
   "metadata": {},
   "outputs": [],
   "source": [
    "@jit(nopython=True)\n",
    "def vizinhos(N):\n",
    "    #Define a tabela de vizinhos\n",
    "    L=int(np.sqrt(N))\n",
    "    viz = np.zeros((N,4),dtype=np.int16)\n",
    "    for k in range(N):\n",
    "        viz[k,0]=k+1\n",
    "        if (k+1) % L == 0:\n",
    "            viz[k,0] = k+1-L\n",
    "        viz[k,1] = k+L\n",
    "        if k > (N-L-1):\n",
    "            viz[k,1] = k+L-N\n",
    "        viz[k,2] = k-1\n",
    "        if (k % L == 0):\n",
    "            viz[k,2] = k+L-1\n",
    "        viz[k,3] = k-L\n",
    "        if k < L:\n",
    "            viz[k,3] = k+N-L\n",
    "    return viz"
   ]
  }
 ],
 "metadata": {
  "language_info": {
   "name": "python"
  },
  "orig_nbformat": 4
 },
 "nbformat": 4,
 "nbformat_minor": 2
}
