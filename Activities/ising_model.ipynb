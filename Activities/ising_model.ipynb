{
 "cells": [
  {
   "cell_type": "code",
   "execution_count": 1,
   "metadata": {},
   "outputs": [],
   "source": [
    "import numpy as np\n",
    "import matplotlib.pyplot as plt\n",
    "\n",
    "from numba import jit"
   ]
  },
  {
   "cell_type": "code",
   "execution_count": 2,
   "metadata": {},
   "outputs": [],
   "source": [
    "def initial_system_config(N):\n",
    "    # Define a configuração inicial do sistema\n",
    "    # S recebe valores aleatórios -1 ou 1\n",
    "    S = np.random.randint(0,2,N)\n",
    "    S = 2 * S - 1\n",
    "    return S"
   ]
  },
  {
   "cell_type": "code",
   "execution_count": 3,
   "metadata": {},
   "outputs": [],
   "source": [
    "def expos(beta):\n",
    "    ex = np.zeros(5,dtype=np.float32)\n",
    "    ex[0]=np.exp(8.0*beta)\n",
    "    ex[1]=np.exp(4.0*beta)\n",
    "    ex[2]=1.0\n",
    "    ex[3]=np.exp(-4.0*beta)\n",
    "    ex[4]=np.exp(-8.0*beta)\n",
    "    return ex"
   ]
  },
  {
   "cell_type": "code",
   "execution_count": 4,
   "metadata": {},
   "outputs": [],
   "source": [
    "@jit(nopython=True)\n",
    "def vizinhos(N):\n",
    "    # Define a tabela de vizinhos\n",
    "    L=int(np.sqrt(N))\n",
    "    viz = np.zeros((N,4),dtype=np.int16)\n",
    "    for k in range(N):\n",
    "        viz[k,0]=k+1\n",
    "        if (k+1) % L == 0:\n",
    "            viz[k,0] = k+1-L\n",
    "        viz[k,1] = k+L\n",
    "        if k > (N-L-1):\n",
    "            viz[k,1] = k+L-N\n",
    "        viz[k,2] = k-1\n",
    "        if (k % L == 0):\n",
    "            viz[k,2] = k+L-1\n",
    "        viz[k,3] = k-L\n",
    "        if k < L:\n",
    "            viz[k,3] = k+N-L\n",
    "    return viz"
   ]
  },
  {
   "cell_type": "code",
   "execution_count": 5,
   "metadata": {},
   "outputs": [],
   "source": [
    "def energy(N, viz, S):\n",
    "    E = 0.0\n",
    "    for i in range(N):\n",
    "        h = S[viz[i,0]] + S[viz[i,1]]\n",
    "        E += -S[i]*h\n",
    "    return E"
   ]
  },
  {
   "cell_type": "code",
   "execution_count": 6,
   "metadata": {},
   "outputs": [],
   "source": [
    "def metroplis_ising(N, T, mc_steps):    \n",
    "# Passos gerais do algoritmo\n",
    "    beta = 1/T\n",
    "    ex = expos(beta)\n",
    "    S = initial_system_config(N)\n",
    "    energy_system = []\n",
    "    \n",
    "    for _ in range(mc_steps):\n",
    "        viz = vizinhos(N)\n",
    "        r = np.random.uniform(0,1)\n",
    "\n",
    "        for spin in range(N):\n",
    "            h = S[viz[spin,0]] + S[viz[spin,1]] + S[viz[spin,2]] + S[viz[spin,3]] # soma dos vizinhos\n",
    "            de = int(S[spin] * h * 0.5 + 2)\n",
    "            if r < ex[de]:\n",
    "                S[spin] = -S[spin]\n",
    "        energy_system.append(energy(N, viz, S))\n",
    "    \n",
    "    return energy_system\n",
    "# Temperatura está em unidades de j/kB, onde kb é a constante de Boltzmann"
   ]
  },
  {
   "cell_type": "code",
   "execution_count": 7,
   "metadata": {},
   "outputs": [],
   "source": [
    "def _plot(values, mc_steps):\n",
    "    for value in values:\n",
    "        plt.plot(mc_steps, value)\n",
    "\n",
    "    plt.xlabel('Monte Carlo Steps')\n",
    "    plt.ylabel('Energy')\n",
    "    plt.show()"
   ]
  },
  {
   "cell_type": "code",
   "execution_count": 8,
   "metadata": {},
   "outputs": [],
   "source": [
    "def plot_random_systems_energy(systems, mc_steps=1000):\n",
    "    mc_steps = np.arange(0, mc_steps, 1)\n",
    "    _plot(systems, mc_steps)"
   ]
  },
  {
   "cell_type": "code",
   "execution_count": 9,
   "metadata": {},
   "outputs": [],
   "source": [
    "def generate_systems(N_range, T_range, n_systems=10,  mc_steps=1000):\n",
    "    systems = []\n",
    "    # T = np.random.uniform(T_range[0], T_range[1])\n",
    "    # N = np.random.randint(N_range[0], N_range[1]) ** 2\n",
    "    N = 1024\n",
    "    T = 1.5\n",
    "    for _ in range(n_systems):\n",
    "        systems.append(metroplis_ising(N, T, mc_steps))\n",
    "    return systems"
   ]
  },
  {
   "cell_type": "code",
   "execution_count": 10,
   "metadata": {},
   "outputs": [
    {
     "data": {
      "image/png": "[encoded data removed]",
      "text/plain": [
       "<Figure size 640x480 with 1 Axes>"
      ]
     },
     "metadata": {},
     "output_type": "display_data"
    }
   ],
   "source": [
    "systems = generate_systems([20, 100], [0.4, 3], 20)\n",
    "plot_random_systems_energy(systems)"
   ]
  },
  {
   "cell_type": "code",
   "execution_count": 11,
   "metadata": {},
   "outputs": [
    {
     "ename": "KeyboardInterrupt",
     "evalue": "",
     "output_type": "error",
     "traceback": [
      "\u001b[0;31m---------------------------------------------------------------------------\u001b[0m",
      "\u001b[0;31mKeyboardInterrupt\u001b[0m                         Traceback (most recent call last)",
      "Cell \u001b[0;32mIn[11], line 42\u001b[0m\n\u001b[1;32m     40\u001b[0m \u001b[39m# Calcula a energia antes e depois de inverter o spin\u001b[39;00m\n\u001b[1;32m     41\u001b[0m spin_matrix[i,j] \u001b[39m*\u001b[39m\u001b[39m=\u001b[39m \u001b[39m-\u001b[39m\u001b[39m1.0\u001b[39m\n\u001b[0;32m---> 42\u001b[0m dE \u001b[39m=\u001b[39m \u001b[39m-\u001b[39m\u001b[39m2.0\u001b[39m\u001b[39m*\u001b[39mcalc_energy(spin_matrix)\n\u001b[1;32m     43\u001b[0m \u001b[39m# Aceita ou rejeita a mudança com probabilidade de Boltzmann\u001b[39;00m\n\u001b[1;32m     44\u001b[0m \u001b[39mif\u001b[39;00m random\u001b[39m.\u001b[39mrandom() \u001b[39m<\u001b[39m np\u001b[39m.\u001b[39mexp(\u001b[39m-\u001b[39mdE\u001b[39m/\u001b[39mT):\n\u001b[1;32m     45\u001b[0m     \u001b[39m# Mudança aceita\u001b[39;00m\n",
      "Cell \u001b[0;32mIn[11], line 19\u001b[0m, in \u001b[0;36mcalc_energy\u001b[0;34m(spin_matrix)\u001b[0m\n\u001b[1;32m     16\u001b[0m         s \u001b[39m=\u001b[39m spin_matrix[i,j]\n\u001b[1;32m     17\u001b[0m         nb \u001b[39m=\u001b[39m spin_matrix[(i\u001b[39m+\u001b[39m\u001b[39m1\u001b[39m)\u001b[39m%\u001b[39mL,j] \u001b[39m+\u001b[39m spin_matrix[i,(j\u001b[39m+\u001b[39m\u001b[39m1\u001b[39m)\u001b[39m%\u001b[39mL] \u001b[39m+\u001b[39m \\\n\u001b[1;32m     18\u001b[0m              spin_matrix[(i\u001b[39m-\u001b[39m\u001b[39m1\u001b[39m)\u001b[39m%\u001b[39mL,j] \u001b[39m+\u001b[39m spin_matrix[i,(j\u001b[39m-\u001b[39m\u001b[39m1\u001b[39m)\u001b[39m%\u001b[39mL]\n\u001b[0;32m---> 19\u001b[0m         energy \u001b[39m+\u001b[39m\u001b[39m=\u001b[39m \u001b[39m-\u001b[39ms\u001b[39m*\u001b[39mnb\n\u001b[1;32m     20\u001b[0m \u001b[39mreturn\u001b[39;00m energy\u001b[39m/\u001b[39m\u001b[39m2.0\u001b[39m\n",
      "\u001b[0;31mKeyboardInterrupt\u001b[0m: "
     ]
    }
   ],
   "source": [
    "import numpy as np\n",
    "import matplotlib.pyplot as plt\n",
    "import random\n",
    "\n",
    "# Definição de parâmetros\n",
    "L = 1024      # Tamanho da rede\n",
    "T = 1.5     # Temperatura\n",
    "nsteps = 1000  # Número de passos Monte Carlo\n",
    "nruns = 20      # Número de simulações independentes\n",
    "\n",
    "# Função para calcular a energia do sistema\n",
    "def calc_energy(spin_matrix):\n",
    "    energy = 0.0\n",
    "    for i in range(L):\n",
    "        for j in range(L):\n",
    "            s = spin_matrix[i,j]\n",
    "            nb = spin_matrix[(i+1)%L,j] + spin_matrix[i,(j+1)%L] + \\\n",
    "                 spin_matrix[(i-1)%L,j] + spin_matrix[i,(j-1)%L]\n",
    "            energy += -s*nb\n",
    "    return energy/2.0\n",
    "\n",
    "# Função para calcular a magnetização do sistema\n",
    "def calc_mag(spin_matrix):\n",
    "    return np.sum(spin_matrix)\n",
    "\n",
    "# Inicialização da rede\n",
    "spin_matrix = np.ones((L,L))\n",
    "for i in range(L):\n",
    "    for j in range(L):\n",
    "        if random.random() < 0.5:\n",
    "            spin_matrix[i,j] = -1.0\n",
    "\n",
    "# Loop sobre as simulações independentes\n",
    "for run in range(nruns):\n",
    "    # Loop sobre os passos Monte Carlo\n",
    "    energies = []\n",
    "    for step in range(nsteps):\n",
    "        # Escolhe um spin aleatório\n",
    "        i, j = random.randint(0, L-1), random.randint(0, L-1)\n",
    "        # Calcula a energia antes e depois de inverter o spin\n",
    "        spin_matrix[i,j] *= -1.0\n",
    "        dE = -2.0*calc_energy(spin_matrix)\n",
    "        # Aceita ou rejeita a mudança com probabilidade de Boltzmann\n",
    "        if random.random() < np.exp(-dE/T):\n",
    "            # Mudança aceita\n",
    "            pass\n",
    "        else:\n",
    "            # Mudança rejeitada\n",
    "            spin_matrix[i,j] *= -1.0\n",
    "        energies.append(calc_energy(spin_matrix))\n",
    "        \n",
    "    # Plota a energia por passo Monte Carlo\n",
    "    plt.plot(range(1000), energies)\n",
    "    plt.xlabel('Passo Monte Carlo')\n",
    "    plt.ylabel('Energia')\n",
    "plt.show()\n"
   ]
  }
 ],
 "metadata": {
  "kernelspec": {
   "display_name": "Python 3",
   "language": "python",
   "name": "python3"
  },
  "language_info": {
   "codemirror_mode": {
    "name": "ipython",
    "version": 3
   },
   "file_extension": ".py",
   "mimetype": "text/x-python",
   "name": "python",
   "nbconvert_exporter": "python",
   "pygments_lexer": "ipython3",
   "version": "3.10.6"
  },
  "orig_nbformat": 4
 },
 "nbformat": 4,
 "nbformat_minor": 2
}
